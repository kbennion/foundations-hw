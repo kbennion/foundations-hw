{
 "cells": [
  {
   "cell_type": "markdown",
   "metadata": {},
   "source": [
    "## metachars\n",
    "- . any char\n",
    "- \\w any alphanumeric (a-z, A-Z, 0-9, _)\n",
    "- \\s any whitespace char (\" _, \\t, \\n)\n",
    "- \\S any nonwhitespace\n",
    "- \\d any digit (0-9)\n",
    "- \\. searches for an actual period"
   ]
  },
  {
   "cell_type": "code",
   "execution_count": null,
   "metadata": {
    "collapsed": true
   },
   "outputs": [],
   "source": [
    "#subject lines that have dates, e.g. 12/01/99\n",
    "[line for line in subjects if re.search(\"\\d\\d/\\d\\d/\\d\\d\", line)]"
   ]
  },
  {
   "cell_type": "markdown",
   "metadata": {},
   "source": [
    "### define your own character classes\n",
    "\n",
    "inside your regular expression, write `[aeiou]`"
   ]
  },
  {
   "cell_type": "code",
   "execution_count": null,
   "metadata": {
    "collapsed": true
   },
   "outputs": [],
   "source": [
    "[line for line in subjects if re.search(\"[aeiou][aeiou][aeiou][aeiou]\", line)]"
   ]
  },
  {
   "cell_type": "code",
   "execution_count": null,
   "metadata": {
    "collapsed": true
   },
   "outputs": [],
   "source": [
    "[line for line in subjects if re.search(\"F[wW]:\", line)]"
   ]
  },
  {
   "cell_type": "markdown",
   "metadata": {},
   "source": [
    "### metacharacters\n",
    "- ^ beginning of string\n",
    "- $ end of string\n",
    "- \\b word boundary\n"
   ]
  },
  {
   "cell_type": "code",
   "execution_count": null,
   "metadata": {
    "collapsed": true
   },
   "outputs": [],
   "source": [
    "[line for line in subjects if res.search(\"^[Nn]ew [Yy]ork\", line)]"
   ]
  },
  {
   "cell_type": "code",
   "execution_count": null,
   "metadata": {
    "collapsed": true
   },
   "outputs": [],
   "source": [
    "[line for line in subjects if re.search(r\"\\boil\\b\", line)]"
   ]
  },
  {
   "cell_type": "markdown",
   "metadata": {},
   "source": [
    "### aside: metacharacters and escape characters\n",
    "- \\n new line\n",
    "- \\t tab\n",
    "- \\\\ single backslash\n",
    "(python interprets these)"
   ]
  },
  {
   "cell_type": "code",
   "execution_count": 1,
   "metadata": {
    "collapsed": false
   },
   "outputs": [
    {
     "name": "stdout",
     "output_type": "stream",
     "text": [
      "this is \n",
      "a test\n"
     ]
    }
   ],
   "source": [
    "x = \"this is \\na test\"\n",
    "print(x)"
   ]
  },
  {
   "cell_type": "code",
   "execution_count": 2,
   "metadata": {
    "collapsed": false
   },
   "outputs": [
    {
     "name": "stdout",
     "output_type": "stream",
     "text": [
      "this is\t\t\tanother test\n"
     ]
    }
   ],
   "source": [
    "x = \"this is\\t\\t\\tanother test\"\n",
    "print(x)"
   ]
  },
  {
   "cell_type": "code",
   "execution_count": 3,
   "metadata": {
    "collapsed": false
   },
   "outputs": [
    {
     "name": "stdout",
     "output_type": "stream",
     "text": [
      "normal: hello\n",
      "there\n",
      "raw: hello\\nthere\n"
     ]
    }
   ],
   "source": [
    "normal = \"hello\\nthere\"\n",
    "raw = r\"hello\\nthere\"\n",
    "print(\"normal:\", normal)\n",
    "print(\"raw:\", raw)"
   ]
  },
  {
   "cell_type": "markdown",
   "metadata": {},
   "source": [
    "### metacharacters 3: quantifiers\n",
    "            * match zero or more times\n",
    "            {n} matches exactly n times\n",
    "            {n,m} matches at least n times, but no more than m times\n",
    "            {n,} matches at least n times, but maybe infinite times\n",
    "            + match at least once ({1,})\n",
    "            ? match one time or zero times\n",
    " [line for line in subjects if re.search(r\"^R\n",
    " string matches regular expression if at the first line, you encounter ....... "
   ]
  },
  {
   "cell_type": "code",
   "execution_count": 4,
   "metadata": {
    "collapsed": false
   },
   "outputs": [
    {
     "ename": "NameError",
     "evalue": "name 'subjects' is not defined",
     "output_type": "error",
     "traceback": [
      "\u001b[1;31m---------------------------------------------------------------------------\u001b[0m",
      "\u001b[1;31mNameError\u001b[0m                                 Traceback (most recent call last)",
      "\u001b[1;32m<ipython-input-4-b400ec1e8354>\u001b[0m in \u001b[0;36m<module>\u001b[1;34m()\u001b[0m\n\u001b[1;32m----> 1\u001b[1;33m \u001b[1;33m[\u001b[0m\u001b[0mline\u001b[0m \u001b[1;32mfor\u001b[0m \u001b[0mline\u001b[0m \u001b[1;32min\u001b[0m \u001b[0msubjects\u001b[0m \u001b[1;32mif\u001b[0m \u001b[0mre\u001b[0m\u001b[1;33m.\u001b[0m\u001b[0msearch\u001b[0m\u001b[1;33m(\u001b[0m\u001b[1;34mr\"\\b(?:[Cc]at|[kK]itty|[kK]itten)\\b\"\u001b[0m\u001b[1;33m,\u001b[0m \u001b[0mline\u001b[0m\u001b[1;33m)\u001b[0m\u001b[1;33m]\u001b[0m\u001b[1;33m\u001b[0m\u001b[0m\n\u001b[0m",
      "\u001b[1;31mNameError\u001b[0m: name 'subjects' is not defined"
     ]
    }
   ],
   "source": [
    "[line for line in subjects if re.search(r\"\\b(?:[Cc]at|[kK]itty|[kK]itten)\\b\", line)]"
   ]
  },
  {
   "cell_type": "markdown",
   "metadata": {},
   "source": [
    "### more metacharacters: alternation\n",
    "......."
   ]
  },
  {
   "cell_type": "markdown",
   "metadata": {},
   "source": [
    "### capturing\n",
    "\n",
    "read teh whole corpus in as one big string"
   ]
  },
  {
   "cell_type": "code",
   "execution_count": 6,
   "metadata": {
    "collapsed": false,
    "scrolled": true
   },
   "outputs": [
    {
     "ename": "FileNotFoundError",
     "evalue": "[Errno 2] No such file or directory: 'enronsubjects.txt'",
     "output_type": "error",
     "traceback": [
      "\u001b[1;31m---------------------------------------------------------------------------\u001b[0m",
      "\u001b[1;31mFileNotFoundError\u001b[0m                         Traceback (most recent call last)",
      "\u001b[1;32m<ipython-input-6-e5018b4c43ed>\u001b[0m in \u001b[0;36m<module>\u001b[1;34m()\u001b[0m\n\u001b[1;32m----> 1\u001b[1;33m \u001b[0mall_subjects\u001b[0m \u001b[1;33m=\u001b[0m \u001b[0mopen\u001b[0m\u001b[1;33m(\u001b[0m\u001b[1;34m\"enronsubjects.txt\"\u001b[0m\u001b[1;33m)\u001b[0m\u001b[1;33m.\u001b[0m\u001b[0mread\u001b[0m\u001b[1;33m(\u001b[0m\u001b[1;33m)\u001b[0m\u001b[1;33m\u001b[0m\u001b[0m\n\u001b[0m",
      "\u001b[1;31mFileNotFoundError\u001b[0m: [Errno 2] No such file or directory: 'enronsubjects.txt'"
     ]
    }
   ],
   "source": [
    "all_subjects = open(\"enronsubjects.txt\").read()"
   ]
  },
  {
   "cell_type": "code",
   "execution_count": null,
   "metadata": {
    "collapsed": true
   },
   "outputs": [],
   "source": [
    "all_subjects[:1000]\n",
    "#looking for domain names\n",
    "[line for line in subjectts if re.search](r\"\\b\\w+\\.(?:com|net|org)\\b\", line)\n",
    "#re.findall(r\"\\b\\w+\\.(?:com|net|org)\\b\", all_subjects)\n",
    "#\"will you pass teh pepper?\" re.search \"yes\"\n",
    "#\"will you pass the pepper?\" re.findall \"yes, here it is\" *passes pepper*\n"
   ]
  }
 ],
 "metadata": {
  "kernelspec": {
   "display_name": "Python 3",
   "language": "python",
   "name": "python3"
  },
  "language_info": {
   "codemirror_mode": {
    "name": "ipython",
    "version": 3
   },
   "file_extension": ".py",
   "mimetype": "text/x-python",
   "name": "python",
   "nbconvert_exporter": "python",
   "pygments_lexer": "ipython3",
   "version": "3.4.3"
  }
 },
 "nbformat": 4,
 "nbformat_minor": 0
}
