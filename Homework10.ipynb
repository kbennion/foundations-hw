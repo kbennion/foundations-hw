{
 "cells": [
  {
   "cell_type": "markdown",
   "metadata": {},
   "source": [
    "APIs/Data Structures\n",
    "\n",
    "Right now it is TEMPERATURE degrees out and SUMMARY. Today will be TEMP_FEELING with a high of HIGH_TEMP and a low of LOW_TEMP. RAIN_WARNING.\n",
    "\n",
    "Forecasts Part Two: Sending data\n",
    "\n",
    "Using a mailgun.com account and their API, send yourself an email every morning at 8AM telling you the above sentence. The subject line of the email should be something like \"8AM Weather forecast: January 1, 1970\""
   ]
  },
  {
   "cell_type": "code",
   "execution_count": 63,
   "metadata": {
    "collapsed": false
   },
   "outputs": [],
   "source": [
    "import requests\n",
    "response = requests.get('https://api.forecast.io/forecast/a69e446312b60b9982fba351359a544f/40.7128,74.0059')\n",
    "data = response.json()"
   ]
  },
  {
   "cell_type": "code",
   "execution_count": 84,
   "metadata": {
    "collapsed": true
   },
   "outputs": [],
   "source": [
    "today = data['daily']['data'][0]\n",
    "    \n",
    "def temp_feeling(today):\n",
    "    if today['temperatureMax'] >= 38:\n",
    "        return \"wretched\"\n",
    "    elif 27 < today['temperatureMax'] < 38:\n",
    "        return \"glorious\"\n",
    "    elif 10 < today['temperatureMax'] <= 27:\n",
    "        return \"tolerable\"\n",
    "    elif today['temperatureMax'] <= 10:\n",
    "        return \"frigid\"\n",
    "\n",
    "def rain_warning(today):\n",
    "    if today['precipProbability'] > .5:\n",
    "        return \"Tut tut, looks like rain.\"\n",
    "    else:\n",
    "        return \"Leave the rainboots at home today.\""
   ]
  },
  {
   "cell_type": "code",
   "execution_count": 85,
   "metadata": {
    "collapsed": false
   },
   "outputs": [
    {
     "name": "stdout",
     "output_type": "stream",
     "text": [
      "Right now it is 39.42 degrees out and mostly cloudy. Today it will be wretched with a high of 55.51 and a low of 35.27 . Leave the rainboots at home today.\n"
     ]
    }
   ],
   "source": [
    "print(\"Right now it is\", (data['currently']['temperature']), \"degrees out and\", (data['currently']['summary'].lower())+\". Today it will be\", temp_feeling(today),\n",
    "      \"with a high of\", (today['temperatureMax']),\n",
    "      \"and a low of\", (today['temperatureMin']), \".\", rain_warning(today))"
   ]
  },
  {
   "cell_type": "code",
   "execution_count": 3,
   "metadata": {
    "collapsed": false
   },
   "outputs": [
    {
     "ename": "SyntaxError",
     "evalue": "invalid syntax (<ipython-input-3-4e1cb9c3efdc>, line 17)",
     "output_type": "error",
     "traceback": [
      "\u001b[1;36m  File \u001b[1;32m\"<ipython-input-3-4e1cb9c3efdc>\"\u001b[1;36m, line \u001b[1;32m17\u001b[0m\n\u001b[1;33m    \"text\": \"Right now it is\", (data['currently']['temperature']), \"degrees out and\", (data['currently']['summary'].lower())+ \". Today it will be\", temp_feeling(today),\u001b[0m\n\u001b[1;37m         ^\u001b[0m\n\u001b[1;31mSyntaxError\u001b[0m\u001b[1;31m:\u001b[0m invalid syntax\n"
     ]
    }
   ],
   "source": [
    "\n",
    "    #pubkey-415d5fcce3927c6eea8567f2ab78e8f1\n",
    "    #https://documentation.mailgun.com/quickstart-sending.html#send-via-api\n",
    "    \n",
    "import time\n",
    "      \n",
    "def send_simple_message():\n",
    "    return requests.post(\n",
    "        \"https://api.mailgun.net/v3/Sandbox54ef43a44a8a4e788eda99ba38bc4500/messages\",\n",
    "        auth=(\"api\", \"pubkey-415d5fcce3927c6eea8567f2ab78e8f1\"),\n",
    "        data={\"from\": \"Excited User <mailgun@YOUR_DOMAIN_NAME>\",\n",
    "              \"to\": [\"bar@example.com\", \"YOU@YOUR_DOMAIN_NAME\"],\n",
    "              \"subject\": \"8 AM Weather Forecast:\", dt.datetime.today().strftime(\"%B/%d/%Y\")\n",
    "              \"text\": \"Right now it is\", (data['currently']['temperature']), \"degrees out and\", (data['currently']['summary'].lower())+ \". Today it will be\", temp_feeling(today),\n",
    "      \"with a high of\", (today['temperatureMax']),\n",
    "      \"and a low of\", (today['temperatureMin']), \".\", rain_warning(today)})\n",
    "\n",
    "\n",
    "        #get all in one file\n",
    "        #export to atom for py\n",
    "        #upload py file onto the server\n",
    "        #then use crontab to tell it to run every day at 8 a.m.\n"
   ]
  },
  {
   "cell_type": "code",
   "execution_count": null,
   "metadata": {
    "collapsed": true
   },
   "outputs": [],
   "source": []
  }
 ],
 "metadata": {
  "kernelspec": {
   "display_name": "Python 3",
   "language": "python",
   "name": "python3"
  },
  "language_info": {
   "codemirror_mode": {
    "name": "ipython",
    "version": 3
   },
   "file_extension": ".py",
   "mimetype": "text/x-python",
   "name": "python",
   "nbconvert_exporter": "python",
   "pygments_lexer": "ipython3",
   "version": "3.4.3"
  }
 },
 "nbformat": 4,
 "nbformat_minor": 0
}
