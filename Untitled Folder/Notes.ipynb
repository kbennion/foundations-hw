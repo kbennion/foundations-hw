{
 "cells": [
  {
   "cell_type": "markdown",
   "metadata": {},
   "source": [
    "delimted\n",
    "not-delimited - fixed width\n",
    "\n",
    "smushface|6|brownish\n",
    "callery|2|calico\n",
    "napoleon|3|white\n",
    "\n",
    "fixed-width\n",
    "SMUSHFACE 06 BROWNISH\n",
    "CALLERY 02 CALICO\n",
    "NAPOLEON 03 WHITE\n",
    "\n",
    "csv.Reader\n",
    "csv.DictReader"
   ]
  }
 ],
 "metadata": {
  "kernelspec": {
   "display_name": "Python 3",
   "language": "python",
   "name": "python3"
  },
  "language_info": {
   "codemirror_mode": {
    "name": "ipython",
    "version": 3
   },
   "file_extension": ".py",
   "mimetype": "text/x-python",
   "name": "python",
   "nbconvert_exporter": "python",
   "pygments_lexer": "ipython3",
   "version": "3.4.3"
  }
 },
 "nbformat": 4,
 "nbformat_minor": 0
}
