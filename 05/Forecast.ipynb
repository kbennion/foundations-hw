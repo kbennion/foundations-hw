{
 "cells": [
  {
   "cell_type": "code",
   "execution_count": 1,
   "metadata": {
    "collapsed": true
   },
   "outputs": [],
   "source": [
    "import requests"
   ]
  },
  {
   "cell_type": "code",
   "execution_count": 3,
   "metadata": {
    "collapsed": false
   },
   "outputs": [],
   "source": [
    "response = requests.get('https://api.forecast.io/forecast/a69e446312b60b9982fba351359a544f/22.3964,114.1095')\n"
   ]
  },
  {
   "cell_type": "code",
   "execution_count": 4,
   "metadata": {
    "collapsed": false
   },
   "outputs": [
    {
     "name": "stdout",
     "output_type": "stream",
     "text": [
      "{\"latitude\":22.3964,\"longitude\":114.1095,\"timezone\":\"Asia/Hong_Kong\",\"offset\":8,\"currently\":{\"time\":1465418388,\"summary\":\"Partly Cloudy\",\"icon\":\"partly-cloudy-night\",\"precipIntensity\":0.0045,\"precipProbability\":0.17,\"precipType\":\"rain\",\"temperature\":78.89,\"apparentTemperature\":78.89,\"dewPoint\":74.21,\"humidity\":0.86,\"windSpeed\":3.6,\"windBearing\":83,\"visibility\":6.21,\"cloudCover\":0.36,\"pressure\":1004.96,\"ozone\":283.64},\"hourly\":{\"summary\":\"Light rain throughout the day.\",\"icon\":\"rain\",\"data\":[{\"time\":1465416000,\"summary\":\"Partly Cloudy\",\"icon\":\"partly-cloudy-night\",\"precipIntensity\":0.0047,\"precipProbability\":0.18,\"precipType\":\"rain\",\"temperature\":78.8,\"apparentTemperature\":78.8,\"dewPoint\":74.21,\"humidity\":0.86,\"windSpeed\":3.22,\"windBearing\":85,\"visibility\":6.21,\"cloudCover\":0.36,\"pressure\":1005.01,\"ozone\":283.55},{\"time\":1465419600,\"summary\":\"Partly Cloudy\",\"icon\":\"partly-cloudy-night\",\"precipIntensity\":0.0045,\"precipProbability\":0.17,\"precipType\":\"rain\",\"temperature\":78.93,\"apparentTemperature\":78.93,\"dewPoint\":74.21,\"humidity\":0.86,\"windSpeed\":3.79,\"windBearing\":82,\"visibility\":6.21,\"cloudCover\":0.37,\"pressure\":1004.94,\"ozone\":283.69},{\"time\":1465423200,\"summary\":\"Partly Cloudy\",\"icon\":\"partly-cloudy-day\",\"precipIntensity\":0.0041,\"precipProbability\":0.15,\"precipType\":\"rain\",\"temperature\":79.75,\"apparentTemperature\":79.75,\"dewPoint\":74.55,\"humidity\":0.84,\"windSpeed\":4.36,\"windBearing\":81,\"visibility\":6.21,\"cloudCover\":0.38,\"pressure\":1005.1,\"ozone\":283.9},{\"time\":1465426800,\"summary\":\"Partly Cloudy\",\"icon\":\"partly-cloudy-day\",\"precipIntensity\":0.0038,\"precipProbability\":0.13,\"precipType\":\"rain\",\"temperature\":80.88,\"apparentTemperature\":86.6,\"dewPoint\":74.98,\"humidity\":0.82,\"windSpeed\":4.92,\"windBearing\":82,\"visibility\":6.21,\"cloudCover\":0.4,\"pressure\":1005.36,\"ozone\":284.15},{\"time\":1465430400,\"summary\":\"Partly Cloudy\",\"icon\":\"partly-cloudy-day\",\"precipIntensity\":0.0042,\"precipProbability\":0.16,\"precipType\":\"rain\",\"temperature\":81.86,\"apparentTemperature\":88.55,\"dewPoint\":75.21,\"humidity\":0.8,\"windSpeed\":5.35,\"windBearing\":85,\"visibility\":6.21,\"cloudCover\":0.43,\"pressure\":1005.53,\"ozone\":284.35},{\"time\":1465434000,\"summary\":\"Drizzle\",\"icon\":\"rain\",\"precipIntensity\":0.0056,\"precipProbability\":0.23,\"precipType\":\"rain\",\"temperature\":82.73,\"apparentTemperature\":90.12,\"dewPoint\":75.27,\"humidity\":0.78,\"windSpeed\":5.61,\"windBearing\":90,\"visibility\":6.21,\"cloudCover\":0.44,\"pressure\":1005.6,\"ozone\":284.55},{\"time\":1465437600,\"summary\":\"Drizzle\",\"icon\":\"rain\",\"precipIntensity\":0.0076,\"precipProbability\":0.35,\"precipType\":\"rain\",\"temperature\":83.82,\"apparentTemperature\":92.08,\"dewPoint\":75.45,\"humidity\":0.76,\"windSpeed\":5.84,\"windBearing\":97,\"cloudCover\":0.46,\"pressure\":1005.59,\"ozone\":284.71},{\"time\":1465441200,\"summary\":\"Light Rain\",\"icon\":\"rain\",\"precipIntensity\":0.0098,\"precipProbability\":0.46,\"precipType\":\"rain\",\"temperature\":85.07,\"apparentTemperature\":94.55,\"dewPoint\":75.93,\"humidity\":0.74,\"windSpeed\":6.29,\"windBearing\":104,\"cloudCover\":0.43,\"pressure\":1005.48,\"ozone\":284.59},{\"time\":1465444800,\"summary\":\"Light Rain\",\"icon\":\"rain\",\"precipIntensity\":0.0128,\"precipProbability\":0.49,\"precipType\":\"rain\",\"temperature\":86.39,\"apparentTemperature\":97.5,\"dewPoint\":76.74,\"humidity\":0.73,\"windSpeed\":7.18,\"windBearing\":113,\"cloudCover\":0.45,\"pressure\":1005.23,\"ozone\":284.06},{\"time\":1465448400,\"summary\":\"Light Rain\",\"icon\":\"rain\",\"precipIntensity\":0.0159,\"precipProbability\":0.52,\"precipType\":\"rain\",\"temperature\":87.54,\"apparentTemperature\":100.35,\"dewPoint\":77.6,\"humidity\":0.73,\"windSpeed\":8.33,\"windBearing\":120,\"cloudCover\":0.5,\"pressure\":1004.88,\"ozone\":283.26},{\"time\":1465452000,\"summary\":\"Light Rain\",\"icon\":\"rain\",\"precipIntensity\":0.0171,\"precipProbability\":0.53,\"precipType\":\"rain\",\"temperature\":88.11,\"apparentTemperature\":101.95,\"dewPoint\":78.12,\"humidity\":0.72,\"windSpeed\":9.21,\"windBearing\":125,\"cloudCover\":0.54,\"pressure\":1004.52,\"ozone\":282.43},{\"time\":1465455600,\"summary\":\"Light Rain\",\"icon\":\"rain\",\"precipIntensity\":0.0148,\"precipProbability\":0.51,\"precipType\":\"rain\",\"temperature\":87.51,\"apparentTemperature\":100.48,\"dewPoint\":77.72,\"humidity\":0.73,\"windSpeed\":9.57,\"windBearing\":127,\"cloudCover\":0.56,\"pressure\":1004.16,\"ozone\":281.6},{\"time\":1465459200,\"summary\":\"Light Rain\",\"icon\":\"rain\",\"precipIntensity\":0.0107,\"precipProbability\":0.47,\"precipType\":\"rain\",\"temperature\":86.46,\"apparentTemperature\":98.03,\"dewPoint\":77.09,\"humidity\":0.74,\"windSpeed\":9.56,\"windBearing\":128,\"cloudCover\":0.58,\"pressure\":1003.86,\"ozone\":280.73},{\"time\":1465462800,\"summary\":\"Drizzle\",\"icon\":\"rain\",\"precipIntensity\":0.0079,\"precipProbability\":0.37,\"precipType\":\"rain\",\"temperature\":85.18,\"apparentTemperature\":95.3,\"dewPoint\":76.48,\"humidity\":0.75,\"windSpeed\":9.2,\"windBearing\":127,\"cloudCover\":0.6,\"pressure\":1003.75,\"ozone\":279.98},{\"time\":1465466400,\"summary\":\"Drizzle\",\"icon\":\"rain\",\"precipIntensity\":0.0076,\"precipProbability\":0.35,\"precipType\":\"rain\",\"temperature\":83.7,\"apparentTemperature\":92.42,\"dewPoint\":76.05,\"humidity\":0.78,\"windSpeed\":8.39,\"windBearing\":123,\"cloudCover\":0.64,\"pressure\":1003.9,\"ozone\":279.4},{\"time\":1465470000,\"summary\":\"Drizzle\",\"icon\":\"rain\",\"precipIntensity\":0.0085,\"precipProbability\":0.41,\"precipType\":\"rain\",\"temperature\":82.19,\"apparentTemperature\":89.5,\"dewPoint\":75.73,\"humidity\":0.81,\"windSpeed\":7.37,\"windBearing\":116,\"cloudCover\":0.69,\"pressure\":1004.23,\"ozone\":278.92},{\"time\":1465473600,\"summary\":\"Light Rain\",\"icon\":\"rain\",\"precipIntensity\":0.0092,\"precipProbability\":0.45,\"precipType\":\"rain\",\"temperature\":81.06,\"apparentTemperature\":87.24,\"dewPoint\":75.51,\"humidity\":0.83,\"windSpeed\":6.54,\"windBearing\":109,\"cloudCover\":0.75,\"pressure\":1004.62,\"ozone\":278.53},{\"time\":1465477200,\"summary\":\"Light Rain\",\"icon\":\"rain\",\"precipIntensity\":0.0093,\"precipProbability\":0.46,\"precipType\":\"rain\",\"temperature\":80.52,\"apparentTemperature\":86.1,\"dewPoint\":75.39,\"humidity\":0.84,\"windSpeed\":5.92,\"windBearing\":105,\"cloudCover\":0.83,\"pressure\":1005.09,\"ozone\":278.27},{\"time\":1465480800,\"summary\":\"Light Rain\",\"icon\":\"rain\",\"precipIntensity\":0.0092,\"precipProbability\":0.45,\"precipType\":\"rain\",\"temperature\":80.3,\"apparentTemperature\":85.66,\"dewPoint\":75.37,\"humidity\":0.85,\"windSpeed\":5.33,\"windBearing\":103,\"cloudCover\":0.93,\"pressure\":1005.58,\"ozone\":278.1},{\"time\":1465484400,\"summary\":\"Drizzle\",\"icon\":\"rain\",\"precipIntensity\":0.009,\"precipProbability\":0.44,\"precipType\":\"rain\",\"temperature\":80.19,\"apparentTemperature\":85.51,\"dewPoint\":75.41,\"humidity\":0.85,\"windSpeed\":4.76,\"windBearing\":101,\"cloudCover\":1,\"pressure\":1005.85,\"ozone\":277.91},{\"time\":1465488000,\"summary\":\"Drizzle\",\"icon\":\"rain\",\"precipIntensity\":0.0086,\"precipProbability\":0.42,\"precipType\":\"rain\",\"temperature\":80.1,\"apparentTemperature\":85.42,\"dewPoint\":75.49,\"humidity\":0.86,\"windSpeed\":4.17,\"windBearing\":95,\"cloudCover\":1,\"pressure\":1005.76,\"ozone\":277.63},{\"time\":1465491600,\"summary\":\"Drizzle\",\"icon\":\"rain\",\"precipIntensity\":0.0082,\"precipProbability\":0.39,\"precipType\":\"rain\",\"temperature\":80.01,\"apparentTemperature\":85.3,\"dewPoint\":75.53,\"humidity\":0.86,\"windSpeed\":3.66,\"windBearing\":87,\"cloudCover\":1,\"pressure\":1005.45,\"ozone\":277.34},{\"time\":1465495200,\"summary\":\"Drizzle\",\"icon\":\"rain\",\"precipIntensity\":0.008,\"precipProbability\":0.38,\"precipType\":\"rain\",\"temperature\":79.79,\"apparentTemperature\":79.79,\"dewPoint\":75.42,\"humidity\":0.87,\"windSpeed\":3.39,\"windBearing\":80,\"cloudCover\":1,\"pressure\":1005.16,\"ozone\":277.16},{\"time\":1465498800,\"summary\":\"Drizzle\",\"icon\":\"rain\",\"precipIntensity\":0.0079,\"precipProbability\":0.37,\"precipType\":\"rain\",\"temperature\":79.32,\"apparentTemperature\":79.32,\"dewPoint\":75.07,\"humidity\":0.87,\"windSpeed\":3.31,\"windBearing\":76,\"cloudCover\":0.99,\"pressure\":1004.93,\"ozone\":277.1},{\"time\":1465502400,\"summary\":\"Drizzle\",\"icon\":\"rain\",\"precipIntensity\":0.008,\"precipProbability\":0.38,\"precipType\":\"rain\",\"temperature\":78.77,\"apparentTemperature\":78.77,\"dewPoint\":74.61,\"humidity\":0.87,\"windSpeed\":3.36,\"windBearing\":75,\"cloudCover\":0.99,\"pressure\":1004.73,\"ozone\":277.16},{\"time\":1465506000,\"summary\":\"Drizzle\",\"icon\":\"rain\",\"precipIntensity\":0.0081,\"precipProbability\":0.38,\"precipType\":\"rain\",\"temperature\":78.5,\"apparentTemperature\":78.5,\"dewPoint\":74.25,\"humidity\":0.87,\"windSpeed\":3.62,\"windBearing\":76,\"cloudCover\":0.99,\"pressure\":1004.72,\"ozone\":277.39},{\"time\":1465509600,\"summary\":\"Drizzle\",\"icon\":\"rain\",\"precipIntensity\":0.008,\"precipProbability\":0.38,\"precipType\":\"rain\",\"temperature\":79.39,\"apparentTemperature\":79.39,\"dewPoint\":74.77,\"humidity\":0.86,\"windSpeed\":4.26,\"windBearing\":78,\"cloudCover\":1,\"pressure\":1005.02,\"ozone\":277.96},{\"time\":1465513200,\"summary\":\"Drizzle\",\"icon\":\"rain\",\"precipIntensity\":0.0078,\"precipProbability\":0.37,\"precipType\":\"rain\",\"temperature\":80.43,\"apparentTemperature\":85.86,\"dewPoint\":75.25,\"humidity\":0.84,\"windSpeed\":5.11,\"windBearing\":81,\"cloudCover\":1,\"pressure\":1005.53,\"ozone\":278.7},{\"time\":1465516800,\"summary\":\"Drizzle\",\"icon\":\"rain\",\"precipIntensity\":0.0083,\"precipProbability\":0.4,\"precipType\":\"rain\",\"temperature\":81.36,\"apparentTemperature\":87.8,\"dewPoint\":75.48,\"humidity\":0.82,\"windSpeed\":5.8,\"windBearing\":86,\"cloudCover\":0.99,\"pressure\":1005.91,\"ozone\":279.18},{\"time\":1465520400,\"summary\":\"Light Rain\",\"icon\":\"rain\",\"precipIntensity\":0.01,\"precipProbability\":0.46,\"precipType\":\"rain\",\"temperature\":82.44,\"apparentTemperature\":89.86,\"dewPoint\":75.6,\"humidity\":0.8,\"windSpeed\":6.26,\"windBearing\":94,\"cloudCover\":0.84,\"pressure\":1006.12,\"ozone\":279.28},{\"time\":1465524000,\"summary\":\"Light Rain\",\"icon\":\"rain\",\"precipIntensity\":0.0124,\"precipProbability\":0.49,\"precipType\":\"rain\",\"temperature\":83.87,\"apparentTemperature\":92.53,\"dewPoint\":75.86,\"humidity\":0.77,\"windSpeed\":6.73,\"windBearing\":103,\"cloudCover\":0.62,\"pressure\":1006.24,\"ozone\":279.12},{\"time\":1465527600,\"summary\":\"Light Rain\",\"icon\":\"rain\",\"precipIntensity\":0.0139,\"precipProbability\":0.5,\"precipType\":\"rain\",\"temperature\":85.47,\"apparentTemperature\":95.74,\"dewPoint\":76.46,\"humidity\":0.75,\"windSpeed\":7.23,\"windBearing\":112,\"cloudCover\":0.46,\"pressure\":1006.18,\"ozone\":278.57},{\"time\":1465531200,\"summary\":\"Light Rain\",\"icon\":\"rain\",\"precipIntensity\":0.0137,\"precipProbability\":0.5,\"precipType\":\"rain\",\"temperature\":87.17,\"apparentTemperature\":99.63,\"dewPoint\":77.49,\"humidity\":0.73,\"windSpeed\":7.79,\"windBearing\":121,\"cloudCover\":0.4,\"pressure\":1005.87,\"ozone\":277.33},{\"time\":1465534800,\"summary\":\"Light Rain\",\"icon\":\"rain\",\"precipIntensity\":0.0125,\"precipProbability\":0.49,\"precipType\":\"rain\",\"temperature\":88.76,\"apparentTemperature\":103.77,\"dewPoint\":78.69,\"humidity\":0.72,\"windSpeed\":8.42,\"windBearing\":130,\"cloudCover\":0.39,\"pressure\":1005.38,\"ozone\":275.69},{\"time\":1465538400,\"summary\":\"Light Rain\",\"icon\":\"rain\",\"precipIntensity\":0.0111,\"precipProbability\":0.48,\"precipType\":\"rain\",\"temperature\":89.65,\"apparentTemperature\":106.43,\"dewPoint\":79.52,\"humidity\":0.72,\"windSpeed\":8.88,\"windBearing\":138,\"cloudCover\":0.4,\"pressure\":1004.92,\"ozone\":274.44},{\"time\":1465542000,\"summary\":\"Light Rain\",\"icon\":\"rain\",\"precipIntensity\":0.0093,\"precipProbability\":0.46,\"precipType\":\"rain\",\"temperature\":88.82,\"apparentTemperature\":104.38,\"dewPoint\":79.03,\"humidity\":0.73,\"windSpeed\":9.1,\"windBearing\":146,\"cloudCover\":0.41,\"pressure\":1004.51,\"ozone\":273.97},{\"time\":1465545600,\"summary\":\"Drizzle\",\"icon\":\"rain\",\"precipIntensity\":0.0072,\"precipProbability\":0.33,\"precipType\":\"rain\",\"temperature\":87.41,\"apparentTemperature\":101.03,\"dewPoint\":78.26,\"humidity\":0.74,\"windSpeed\":9.2,\"windBearing\":154,\"cloudCover\":0.43,\"pressure\":1004.15,\"ozone\":273.89},{\"time\":1465549200,\"summary\":\"Drizzle\",\"icon\":\"rain\",\"precipIntensity\":0.0055,\"precipProbability\":0.23,\"precipType\":\"rain\",\"temperature\":85.8,\"apparentTemperature\":97.43,\"dewPoint\":77.49,\"humidity\":0.76,\"windSpeed\":9.08,\"windBearing\":161,\"cloudCover\":0.46,\"pressure\":1004.01,\"ozone\":273.76},{\"time\":1465552800,\"summary\":\"Partly Cloudy\",\"icon\":\"partly-cloudy-day\",\"precipIntensity\":0.0046,\"precipProbability\":0.18,\"precipType\":\"rain\",\"temperature\":84.09,\"apparentTemperature\":93.9,\"dewPoint\":76.91,\"humidity\":0.79,\"windSpeed\":8.39,\"windBearing\":166,\"cloudCover\":0.5,\"pressure\":1004.26,\"ozone\":273.45},{\"time\":1465556400,\"summary\":\"Partly Cloudy\",\"icon\":\"partly-cloudy-day\",\"precipIntensity\":0.0043,\"precipProbability\":0.16,\"precipType\":\"rain\",\"temperature\":82.45,\"apparentTemperature\":90.59,\"dewPoint\":76.52,\"humidity\":0.82,\"windSpeed\":7.36,\"windBearing\":172,\"cloudCover\":0.55,\"pressure\":1004.8,\"ozone\":273.11},{\"time\":1465560000,\"summary\":\"Mostly Cloudy\",\"icon\":\"partly-cloudy-night\",\"precipIntensity\":0.0041,\"precipProbability\":0.15,\"precipType\":\"rain\",\"temperature\":81.36,\"apparentTemperature\":88.33,\"dewPoint\":76.34,\"humidity\":0.85,\"windSpeed\":6.55,\"windBearing\":177,\"cloudCover\":0.62,\"pressure\":1005.28,\"ozone\":272.71},{\"time\":1465563600,\"summary\":\"Mostly Cloudy\",\"icon\":\"partly-cloudy-night\",\"precipIntensity\":0.0037,\"precipProbability\":0.13,\"precipType\":\"rain\",\"temperature\":81.04,\"apparentTemperature\":87.87,\"dewPoint\":76.45,\"humidity\":0.86,\"windSpeed\":6.03,\"windBearing\":176,\"cloudCover\":0.74,\"pressure\":1005.7,\"ozone\":272.19},{\"time\":1465567200,\"summary\":\"Mostly Cloudy\",\"icon\":\"partly-cloudy-night\",\"precipIntensity\":0.0033,\"precipProbability\":0.11,\"precipType\":\"rain\",\"temperature\":81.17,\"apparentTemperature\":88.38,\"dewPoint\":76.75,\"humidity\":0.87,\"windSpeed\":5.63,\"windBearing\":172,\"cloudCover\":0.88,\"pressure\":1006.11,\"ozone\":271.62},{\"time\":1465570800,\"summary\":\"Overcast\",\"icon\":\"cloudy\",\"precipIntensity\":0.0038,\"precipProbability\":0.13,\"precipType\":\"rain\",\"temperature\":81.29,\"apparentTemperature\":88.8,\"dewPoint\":76.98,\"humidity\":0.87,\"windSpeed\":5.42,\"windBearing\":169,\"cloudCover\":0.98,\"pressure\":1006.36,\"ozone\":271.14},{\"time\":1465574400,\"summary\":\"Drizzle\",\"icon\":\"rain\",\"precipIntensity\":0.0054,\"precipProbability\":0.22,\"precipType\":\"rain\",\"temperature\":81.16,\"apparentTemperature\":88.53,\"dewPoint\":76.93,\"humidity\":0.87,\"windSpeed\":5.49,\"windBearing\":173,\"cloudCover\":1,\"pressure\":1006.31,\"ozone\":270.8},{\"time\":1465578000,\"summary\":\"Drizzle\",\"icon\":\"rain\",\"precipIntensity\":0.0078,\"precipProbability\":0.36,\"precipType\":\"rain\",\"temperature\":80.89,\"apparentTemperature\":87.81,\"dewPoint\":76.67,\"humidity\":0.87,\"windSpeed\":5.8,\"windBearing\":180,\"cloudCover\":1,\"pressure\":1005.98,\"ozone\":270.56},{\"time\":1465581600,\"summary\":\"Light Rain\",\"icon\":\"rain\",\"precipIntensity\":0.01,\"precipProbability\":0.46,\"precipType\":\"rain\",\"temperature\":80.58,\"apparentTemperature\":86.93,\"dewPoint\":76.31,\"humidity\":0.87,\"windSpeed\":6.06,\"windBearing\":184,\"cloudCover\":0.99,\"pressure\":1005.64,\"ozone\":270.37},{\"time\":1465585200,\"summary\":\"Light Rain\",\"icon\":\"rain\",\"precipIntensity\":0.0128,\"precipProbability\":0.49,\"precipType\":\"rain\",\"temperature\":80.17,\"apparentTemperature\":85.9,\"dewPoint\":75.92,\"humidity\":0.87,\"windSpeed\":5.98,\"windBearing\":185,\"cloudCover\":0.99,\"pressure\":1005.46,\"ozone\":270.32},{\"time\":1465588800,\"summary\":\"Light Rain\",\"icon\":\"rain\",\"precipIntensity\":0.0156,\"precipProbability\":0.52,\"precipType\":\"rain\",\"temperature\":79.81,\"apparentTemperature\":79.81,\"dewPoint\":75.53,\"humidity\":0.87,\"windSpeed\":5.77,\"windBearing\":185,\"cloudCover\":0.99,\"pressure\":1005.37,\"ozone\":270.33}]},\"daily\":{\"summary\":\"Light rain throughout the week, with temperatures peaking at 90°F on Saturday.\",\"icon\":\"rain\",\"data\":[{\"time\":1465401600,\"summary\":\"Light rain throughout the day.\",\"icon\":\"rain\",\"sunriseTime\":1465422004,\"sunsetTime\":1465470503,\"moonPhase\":0.15,\"precipIntensity\":0.0083,\"precipIntensityMax\":0.0171,\"precipIntensityMaxTime\":1465452000,\"precipProbability\":0.53,\"precipType\":\"rain\",\"temperatureMin\":78.8,\"temperatureMinTime\":1465416000,\"temperatureMax\":88.11,\"temperatureMaxTime\":1465452000,\"apparentTemperatureMin\":78.8,\"apparentTemperatureMinTime\":1465416000,\"apparentTemperatureMax\":101.95,\"apparentTemperatureMaxTime\":1465452000,\"dewPoint\":75.63,\"humidity\":0.8,\"windSpeed\":5.69,\"windBearing\":110,\"visibility\":6.21,\"cloudCover\":0.5,\"pressure\":1004.98,\"ozone\":282.09},{\"time\":1465488000,\"summary\":\"Light rain until evening, starting again overnight.\",\"icon\":\"rain\",\"sunriseTime\":1465508405,\"sunsetTime\":1465556924,\"moonPhase\":0.18,\"precipIntensity\":0.008,\"precipIntensityMax\":0.0139,\"precipIntensityMaxTime\":1465527600,\"precipProbability\":0.5,\"precipType\":\"rain\",\"temperatureMin\":78.5,\"temperatureMinTime\":1465506000,\"temperatureMax\":89.65,\"temperatureMaxTime\":1465538400,\"apparentTemperatureMin\":78.5,\"apparentTemperatureMinTime\":1465506000,\"apparentTemperatureMax\":106.43,\"apparentTemperatureMaxTime\":1465538400,\"dewPoint\":76.43,\"humidity\":0.81,\"windSpeed\":5.07,\"windBearing\":131,\"cloudCover\":0.74,\"pressure\":1005.3,\"ozone\":275.83},{\"time\":1465574400,\"summary\":\"Light rain until afternoon, starting again overnight.\",\"icon\":\"rain\",\"sunriseTime\":1465594808,\"sunsetTime\":1465643344,\"moonPhase\":0.21,\"precipIntensity\":0.0072,\"precipIntensityMax\":0.0164,\"precipIntensityMaxTime\":1465592400,\"precipProbability\":0.52,\"precipType\":\"rain\",\"temperatureMin\":79.81,\"temperatureMinTime\":1465588800,\"temperatureMax\":89.78,\"temperatureMaxTime\":1465617600,\"apparentTemperatureMin\":79.81,\"apparentTemperatureMinTime\":1465588800,\"apparentTemperatureMax\":104.79,\"apparentTemperatureMaxTime\":1465617600,\"dewPoint\":76.78,\"humidity\":0.79,\"windSpeed\":9.58,\"windBearing\":192,\"cloudCover\":0.92,\"pressure\":1005.48,\"ozone\":269.68},{\"time\":1465660800,\"summary\":\"Rain throughout the day.\",\"icon\":\"rain\",\"sunriseTime\":1465681212,\"sunsetTime\":1465729764,\"moonPhase\":0.24,\"precipIntensity\":0.0442,\"precipIntensityMax\":0.1745,\"precipIntensityMaxTime\":1465711200,\"precipProbability\":0.77,\"precipType\":\"rain\",\"temperatureMin\":78.4,\"temperatureMinTime\":1465704000,\"temperatureMax\":84.58,\"temperatureMaxTime\":1465722000,\"apparentTemperatureMin\":78.4,\"apparentTemperatureMinTime\":1465704000,\"apparentTemperatureMax\":97.19,\"apparentTemperatureMaxTime\":1465722000,\"dewPoint\":76.6,\"humidity\":0.86,\"windSpeed\":10.57,\"windBearing\":210,\"cloudCover\":1,\"pressure\":1005.1,\"ozone\":267.08},{\"time\":1465747200,\"summary\":\"Rain throughout the day.\",\"icon\":\"rain\",\"sunriseTime\":1465767616,\"sunsetTime\":1465816183,\"moonPhase\":0.28,\"precipIntensity\":0.0426,\"precipIntensityMax\":0.0768,\"precipIntensityMaxTime\":1465812000,\"precipProbability\":0.69,\"precipType\":\"rain\",\"temperatureMin\":79.02,\"temperatureMinTime\":1465826400,\"temperatureMax\":82.32,\"temperatureMaxTime\":1465776000,\"apparentTemperatureMin\":79.02,\"apparentTemperatureMinTime\":1465826400,\"apparentTemperatureMax\":91.42,\"apparentTemperatureMaxTime\":1465776000,\"dewPoint\":76.44,\"humidity\":0.88,\"windSpeed\":9.87,\"windBearing\":217,\"cloudCover\":1,\"pressure\":1004.29,\"ozone\":267.72},{\"time\":1465833600,\"summary\":\"Rain throughout the day.\",\"icon\":\"rain\",\"sunriseTime\":1465854022,\"sunsetTime\":1465902601,\"moonPhase\":0.31,\"precipIntensity\":0.0744,\"precipIntensityMax\":0.1617,\"precipIntensityMaxTime\":1465873200,\"precipProbability\":0.76,\"precipType\":\"rain\",\"temperatureMin\":79.04,\"temperatureMinTime\":1465855200,\"temperatureMax\":81.64,\"temperatureMaxTime\":1465916400,\"apparentTemperatureMin\":79.04,\"apparentTemperatureMinTime\":1465855200,\"apparentTemperatureMax\":90.86,\"apparentTemperatureMaxTime\":1465916400,\"dewPoint\":76.6,\"humidity\":0.9,\"windSpeed\":10.26,\"windBearing\":201,\"cloudCover\":1,\"pressure\":1003.16,\"ozone\":265.99},{\"time\":1465920000,\"summary\":\"Light rain until afternoon, starting again overnight.\",\"icon\":\"rain\",\"sunriseTime\":1465940429,\"sunsetTime\":1465989018,\"moonPhase\":0.34,\"precipIntensity\":0.0137,\"precipIntensityMax\":0.0449,\"precipIntensityMaxTime\":1465941600,\"precipProbability\":0.64,\"precipType\":\"rain\",\"temperatureMin\":80.29,\"temperatureMinTime\":1465934400,\"temperatureMax\":88.16,\"temperatureMaxTime\":1465966800,\"apparentTemperatureMin\":86.8,\"apparentTemperatureMinTime\":1465934400,\"apparentTemperatureMax\":102.15,\"apparentTemperatureMaxTime\":1465966800,\"dewPoint\":77.89,\"humidity\":0.83,\"windSpeed\":11.36,\"windBearing\":198,\"cloudCover\":0.99,\"pressure\":1002.67,\"ozone\":265.95},{\"time\":1466006400,\"summary\":\"Rain until afternoon, starting again overnight.\",\"icon\":\"rain\",\"sunriseTime\":1466026836,\"sunsetTime\":1466075435,\"moonPhase\":0.37,\"precipIntensity\":0.0268,\"precipIntensityMax\":0.095,\"precipIntensityMaxTime\":1466046000,\"precipProbability\":0.71,\"precipType\":\"rain\",\"temperatureMin\":81.12,\"temperatureMinTime\":1466020800,\"temperatureMax\":86.39,\"temperatureMaxTime\":1466053200,\"apparentTemperatureMin\":89.19,\"apparentTemperatureMinTime\":1466078400,\"apparentTemperatureMax\":99.2,\"apparentTemperatureMaxTime\":1466053200,\"dewPoint\":77.81,\"humidity\":0.84,\"windSpeed\":9.96,\"windBearing\":200,\"cloudCover\":1,\"pressure\":1003.65,\"ozone\":266.3}]},\"flags\":{\"sources\":[\"gfs\",\"cmc\",\"fnmoc\",\"isd\",\"madis\"],\"isd-stations\":[\"450040-99999\",\"450050-99999\",\"450090-99999\",\"450350-99999\",\"450390-99999\"],\"madis-stations\":[\"VHHH\",\"VMMC\",\"ZGSZ\"],\"units\":\"us\"}}\n"
     ]
    }
   ],
   "source": [
    "print(response.text)\n",
    "data = response.json()"
   ]
  },
  {
   "cell_type": "code",
   "execution_count": 5,
   "metadata": {
    "collapsed": false
   },
   "outputs": [
    {
     "name": "stdout",
     "output_type": "stream",
     "text": [
      "dict_keys(['timezone', 'daily', 'latitude', 'longitude', 'currently', 'hourly', 'flags', 'offset'])\n"
     ]
    }
   ],
   "source": [
    "print(data.keys())"
   ]
  },
  {
   "cell_type": "code",
   "execution_count": 6,
   "metadata": {
    "collapsed": false
   },
   "outputs": [
    {
     "name": "stdout",
     "output_type": "stream",
     "text": [
      "{'windBearing': 83, 'summary': 'Partly Cloudy', 'temperature': 78.89, 'apparentTemperature': 78.89, 'dewPoint': 74.21, 'icon': 'partly-cloudy-night', 'windSpeed': 3.6, 'ozone': 283.64, 'precipProbability': 0.17, 'time': 1465418388, 'visibility': 6.21, 'precipType': 'rain', 'cloudCover': 0.36, 'humidity': 0.86, 'precipIntensity': 0.0045, 'pressure': 1004.96}\n"
     ]
    }
   ],
   "source": [
    "print(data['currently'])"
   ]
  },
  {
   "cell_type": "code",
   "execution_count": 7,
   "metadata": {
    "collapsed": false
   },
   "outputs": [
    {
     "name": "stdout",
     "output_type": "stream",
     "text": [
      "3.6\n"
     ]
    }
   ],
   "source": [
    "print(data['currently']['windSpeed'])"
   ]
  },
  {
   "cell_type": "code",
   "execution_count": 9,
   "metadata": {
    "collapsed": false
   },
   "outputs": [
    {
     "name": "stdout",
     "output_type": "stream",
     "text": [
      "Current temperature is 78.89\n",
      "Current temperature feels like 78.89\n"
     ]
    }
   ],
   "source": [
    "print(\"Current temperature is\", (data['currently']['temperature']))\n",
    "print(\"Current temperature feels like\", (data['currently']['apparentTemperature']))"
   ]
  },
  {
   "cell_type": "code",
   "execution_count": 18,
   "metadata": {
    "collapsed": false
   },
   "outputs": [
    {
     "name": "stdout",
     "output_type": "stream",
     "text": [
      "0.15\n",
      "0.18\n",
      "0.21\n",
      "0.24\n",
      "0.28\n",
      "0.31\n",
      "0.34\n",
      "0.37\n"
     ]
    }
   ],
   "source": [
    "today = data['daily']['data']\n",
    "for moon in today:\n",
    "    print(moon['moonPhase'])"
   ]
  },
  {
   "cell_type": "code",
   "execution_count": 25,
   "metadata": {
    "collapsed": false
   },
   "outputs": [
    {
     "name": "stdout",
     "output_type": "stream",
     "text": [
      "The difference between the high and low predicted temperatures of the day is 9.310000000000002\n",
      "The difference between the high and low predicted temperatures of the day is 11.150000000000006\n",
      "The difference between the high and low predicted temperatures of the day is 9.969999999999999\n",
      "The difference between the high and low predicted temperatures of the day is 6.179999999999993\n",
      "The difference between the high and low predicted temperatures of the day is 3.299999999999997\n",
      "The difference between the high and low predicted temperatures of the day is 2.5999999999999943\n",
      "The difference between the high and low predicted temperatures of the day is 7.86999999999999\n",
      "The difference between the high and low predicted temperatures of the day is 5.269999999999996\n"
     ]
    }
   ],
   "source": [
    "for temp in today:\n",
    "    print(\"The difference between the high and low predicted temperatures of the day is\", \n",
    "          (temp['temperatureMax'])-(temp['temperatureMin']))"
   ]
  },
  {
   "cell_type": "code",
   "execution_count": 28,
   "metadata": {
    "collapsed": false
   },
   "outputs": [
    {
     "name": "stdout",
     "output_type": "stream",
     "text": [
      "The predicted high temperature for the day is 88.11\n",
      "That is hot weather, imo.\n",
      "The predicted high temperature for the day is 89.65\n",
      "That is hot weather, imo.\n",
      "The predicted high temperature for the day is 89.78\n",
      "That is hot weather, imo.\n",
      "The predicted high temperature for the day is 84.58\n",
      "That is hot weather, imo.\n",
      "The predicted high temperature for the day is 82.32\n",
      "That is hot weather, imo.\n",
      "The predicted high temperature for the day is 81.64\n",
      "That is hot weather, imo.\n",
      "The predicted high temperature for the day is 88.16\n",
      "That is hot weather, imo.\n",
      "The predicted high temperature for the day is 86.39\n",
      "That is hot weather, imo.\n"
     ]
    }
   ],
   "source": [
    "for week in today:\n",
    "    print(\"The predicted high temperature for the day is\", week['temperatureMax'])\n",
    "    if week['temperatureMax'] >= 80:\n",
    "        print(\"That is hot weather, imo.\")\n",
    "    elif week['temperatureMax'] >=65 and week['temperatureMax'] < 80:\n",
    "        print(\"That is warm weather, imo.\")\n",
    "    elif week['temperatureMax'] < 65:\n",
    "        print(\"That is cold weather, imo.\")"
   ]
  },
  {
   "cell_type": "code",
   "execution_count": 29,
   "metadata": {
    "collapsed": true
   },
   "outputs": [],
   "source": [
    "miami_response = requests.get('https://api.forecast.io/forecast/a69e446312b60b9982fba351359a544f/25.7617,80.1918')\n",
    "miami_data = miami_response.json()"
   ]
  },
  {
   "cell_type": "code",
   "execution_count": 36,
   "metadata": {
    "collapsed": false
   },
   "outputs": [
    {
     "name": "stdout",
     "output_type": "stream",
     "text": [
      "{'data': [{'icon': 'clear-night', 'summary': 'Clear', 'temperature': 97.88, 'apparentTemperature': 98.09, 'dewPoint': 59.71, 'windBearing': 123, 'windSpeed': 7.47, 'ozone': 287.72, 'precipProbability': 0, 'time': 1465497000, 'cloudCover': 0, 'humidity': 0.29, 'precipIntensity': 0, 'pressure': 997.54}, {'icon': 'clear-night', 'summary': 'Clear', 'temperature': 96.65, 'apparentTemperature': 97.08, 'dewPoint': 60.51, 'windBearing': 129, 'windSpeed': 6.77, 'ozone': 287.55, 'precipProbability': 0, 'time': 1465500600, 'cloudCover': 0, 'humidity': 0.3, 'precipIntensity': 0, 'pressure': 997.52}, {'icon': 'clear-night', 'summary': 'Clear', 'temperature': 95.31, 'apparentTemperature': 95.84, 'dewPoint': 61.09, 'windBearing': 137, 'windSpeed': 6.18, 'ozone': 287.39, 'precipProbability': 0, 'time': 1465504200, 'cloudCover': 0, 'humidity': 0.32, 'precipIntensity': 0, 'pressure': 997.52}, {'icon': 'clear-night', 'summary': 'Clear', 'temperature': 94.06, 'apparentTemperature': 94.61, 'dewPoint': 61.45, 'windBearing': 146, 'windSpeed': 5.74, 'ozone': 287.4, 'precipProbability': 0, 'time': 1465507800, 'cloudCover': 0.01, 'humidity': 0.34, 'precipIntensity': 0, 'pressure': 997.55}, {'icon': 'clear-night', 'summary': 'Clear', 'temperature': 92.81, 'apparentTemperature': 93.26, 'dewPoint': 61.49, 'windBearing': 152, 'windSpeed': 5.56, 'ozone': 287.76, 'precipProbability': 0, 'time': 1465511400, 'cloudCover': 0.02, 'humidity': 0.35, 'precipIntensity': 0, 'pressure': 997.61}, {'icon': 'clear-night', 'summary': 'Clear', 'temperature': 92.17, 'apparentTemperature': 92.56, 'dewPoint': 61.48, 'windBearing': 161, 'windSpeed': 4.87, 'ozone': 288.2, 'precipProbability': 0, 'time': 1465515000, 'cloudCover': 0.04, 'humidity': 0.36, 'precipIntensity': 0, 'pressure': 997.73}, {'icon': 'clear-day', 'summary': 'Clear', 'temperature': 93.86, 'apparentTemperature': 94.74, 'dewPoint': 62.13, 'windBearing': 198, 'windSpeed': 3.44, 'ozone': 288.6, 'precipProbability': 0, 'time': 1465518600, 'cloudCover': 0.08, 'humidity': 0.35, 'precipIntensity': 0, 'pressure': 997.96}, {'icon': 'clear-day', 'summary': 'Clear', 'temperature': 97.47, 'apparentTemperature': 99.06, 'dewPoint': 62.49, 'windBearing': 263, 'windSpeed': 5.59, 'ozone': 289.08, 'precipProbability': 0, 'time': 1465522200, 'cloudCover': 0.13, 'humidity': 0.32, 'precipIntensity': 0, 'pressure': 998.36}, {'icon': 'clear-day', 'summary': 'Clear', 'temperature': 101.58, 'apparentTemperature': 103.73, 'dewPoint': 62.19, 'windBearing': 281, 'windSpeed': 10.04, 'ozone': 289.42, 'precipProbability': 0, 'time': 1465525800, 'cloudCover': 0.17, 'humidity': 0.28, 'precipIntensity': 0, 'pressure': 998.7}, {'icon': 'clear-day', 'summary': 'Clear', 'temperature': 105.46, 'apparentTemperature': 107.91, 'dewPoint': 61.55, 'windBearing': 286, 'windSpeed': 12.43, 'ozone': 289.33, 'precipProbability': 0, 'time': 1465529400, 'cloudCover': 0.17, 'humidity': 0.24, 'precipIntensity': 0, 'pressure': 998.73}, {'icon': 'clear-day', 'summary': 'Clear', 'temperature': 110, 'apparentTemperature': 112.82, 'dewPoint': 61.05, 'windBearing': 288, 'windSpeed': 12.81, 'ozone': 288.78, 'precipProbability': 0, 'time': 1465533000, 'cloudCover': 0.11, 'humidity': 0.21, 'precipIntensity': 0, 'pressure': 998.49}, {'icon': 'clear-day', 'summary': 'Clear', 'temperature': 114.24, 'apparentTemperature': 117.02, 'dewPoint': 60.4, 'windBearing': 290, 'windSpeed': 12.4, 'ozone': 288.17, 'precipProbability': 0, 'time': 1465536600, 'cloudCover': 0.07, 'humidity': 0.18, 'precipIntensity': 0, 'pressure': 998.08}, {'icon': 'clear-day', 'summary': 'Clear', 'temperature': 116.44, 'apparentTemperature': 118.49, 'dewPoint': 59.25, 'windBearing': 292, 'windSpeed': 12.21, 'ozone': 287.84, 'precipProbability': 0, 'time': 1465540200, 'cloudCover': 0.14, 'humidity': 0.16, 'precipIntensity': 0, 'pressure': 997.5}, {'icon': 'partly-cloudy-day', 'summary': 'Partly Cloudy', 'temperature': 115.92, 'apparentTemperature': 116.62, 'dewPoint': 57.22, 'windBearing': 294, 'windSpeed': 11.96, 'ozone': 287.69, 'precipProbability': 0, 'time': 1465543800, 'cloudCover': 0.3, 'humidity': 0.15, 'precipIntensity': 0, 'pressure': 996.66}, {'icon': 'partly-cloudy-day', 'summary': 'Partly Cloudy', 'temperature': 114.6, 'apparentTemperature': 114.24, 'dewPoint': 55.42, 'windBearing': 297, 'windSpeed': 11.52, 'ozone': 287.71, 'precipProbability': 0, 'time': 1465547400, 'cloudCover': 0.48, 'humidity': 0.15, 'precipIntensity': 0, 'pressure': 995.78}, {'icon': 'partly-cloudy-day', 'summary': 'Mostly Cloudy', 'temperature': 113.42, 'apparentTemperature': 112.4, 'dewPoint': 54.15, 'windBearing': 298, 'windSpeed': 10.79, 'ozone': 287.99, 'precipProbability': 0, 'time': 1465551000, 'cloudCover': 0.6, 'humidity': 0.15, 'precipIntensity': 0, 'pressure': 995.11}, {'icon': 'partly-cloudy-day', 'summary': 'Mostly Cloudy', 'temperature': 112.25, 'apparentTemperature': 110.91, 'dewPoint': 53.48, 'windBearing': 299, 'windSpeed': 9.62, 'ozone': 288.59, 'precipProbability': 0, 'time': 1465554600, 'cloudCover': 0.7, 'humidity': 0.15, 'precipIntensity': 0, 'pressure': 994.64}, {'icon': 'partly-cloudy-day', 'summary': 'Mostly Cloudy', 'temperature': 110.86, 'apparentTemperature': 109.46, 'dewPoint': 53.35, 'windBearing': 298, 'windSpeed': 8.37, 'ozone': 289.23, 'precipProbability': 0, 'time': 1465558200, 'cloudCover': 0.75, 'humidity': 0.15, 'precipIntensity': 0, 'pressure': 994.37}, {'icon': 'partly-cloudy-day', 'summary': 'Mostly Cloudy', 'temperature': 109.06, 'apparentTemperature': 107.72, 'dewPoint': 53.58, 'windBearing': 298, 'windSpeed': 7.48, 'ozone': 289.66, 'precipProbability': 0, 'time': 1465561800, 'cloudCover': 0.69, 'humidity': 0.16, 'precipIntensity': 0, 'pressure': 994.35}, {'icon': 'partly-cloudy-night', 'summary': 'Partly Cloudy', 'temperature': 106.76, 'apparentTemperature': 105.51, 'dewPoint': 54.06, 'windBearing': 299, 'windSpeed': 7.01, 'ozone': 289.93, 'precipProbability': 0, 'time': 1465565400, 'cloudCover': 0.49, 'humidity': 0.18, 'precipIntensity': 0, 'pressure': 994.58}, {'icon': 'partly-cloudy-night', 'summary': 'Partly Cloudy', 'temperature': 104.36, 'apparentTemperature': 103.26, 'dewPoint': 54.92, 'windBearing': 297, 'windSpeed': 6.3, 'ozone': 290.14, 'precipProbability': 0, 'time': 1465569000, 'cloudCover': 0.29, 'humidity': 0.2, 'precipIntensity': 0, 'pressure': 994.97}, {'windBearing': 280, 'summary': 'Clear', 'temperature': 102.18, 'apparentTemperature': 101.42, 'dewPoint': 56.28, 'icon': 'clear-night', 'windSpeed': 4.77, 'ozone': 290.39, 'precipProbability': 0.01, 'time': 1465572600, 'precipType': 'rain', 'cloudCover': 0.19, 'humidity': 0.22, 'precipIntensity': 0.0008, 'pressure': 995.44}, {'windBearing': 227, 'summary': 'Clear', 'temperature': 100.09, 'apparentTemperature': 99.77, 'dewPoint': 57.88, 'icon': 'clear-night', 'windSpeed': 4.42, 'ozone': 290.71, 'precipProbability': 0.03, 'time': 1465576200, 'precipType': 'rain', 'cloudCover': 0.18, 'humidity': 0.25, 'precipIntensity': 0.0016, 'pressure': 996.05}, {'windBearing': 199, 'summary': 'Clear', 'temperature': 98.25, 'apparentTemperature': 98.39, 'dewPoint': 59.45, 'icon': 'clear-night', 'windSpeed': 6.99, 'ozone': 290.87, 'precipProbability': 0.09, 'time': 1465579800, 'precipType': 'rain', 'cloudCover': 0.2, 'humidity': 0.28, 'precipIntensity': 0.0028, 'pressure': 996.61}, {'windBearing': 201, 'summary': 'Clear', 'temperature': 96.88, 'apparentTemperature': 97.56, 'dewPoint': 60.96, 'icon': 'clear-night', 'windSpeed': 8.41, 'ozone': 290.58, 'precipProbability': 0.18, 'time': 1465583400, 'precipType': 'rain', 'cloudCover': 0.18, 'humidity': 0.31, 'precipIntensity': 0.0046, 'pressure': 996.86}, {'windBearing': 218, 'summary': 'Drizzle', 'temperature': 95.86, 'apparentTemperature': 97.33, 'dewPoint': 62.72, 'icon': 'rain', 'windSpeed': 8.75, 'ozone': 289.78, 'precipProbability': 0.33, 'time': 1465587000, 'precipType': 'rain', 'cloudCover': 0.15, 'humidity': 0.34, 'precipIntensity': 0.0072, 'pressure': 996.8}, {'windBearing': 235, 'summary': 'Light Rain', 'temperature': 94.97, 'apparentTemperature': 97.21, 'dewPoint': 64.29, 'icon': 'rain', 'windSpeed': 9.85, 'ozone': 288.95, 'precipProbability': 0.46, 'time': 1465590600, 'precipType': 'rain', 'cloudCover': 0.12, 'humidity': 0.37, 'precipIntensity': 0.0094, 'pressure': 996.71}, {'windBearing': 238, 'summary': 'Light Rain', 'temperature': 93.92, 'apparentTemperature': 96.64, 'dewPoint': 65.3, 'icon': 'rain', 'windSpeed': 11.32, 'ozone': 288.54, 'precipProbability': 0.46, 'time': 1465594200, 'precipType': 'rain', 'cloudCover': 0.09, 'humidity': 0.39, 'precipIntensity': 0.0097, 'pressure': 996.82}, {'windBearing': 231, 'summary': 'Drizzle', 'temperature': 92.62, 'apparentTemperature': 95.57, 'dewPoint': 65.95, 'icon': 'rain', 'windSpeed': 12.97, 'ozone': 288.43, 'precipProbability': 0.39, 'time': 1465597800, 'precipType': 'rain', 'cloudCover': 0.05, 'humidity': 0.42, 'precipIntensity': 0.0082, 'pressure': 997.06}, {'windBearing': 226, 'summary': 'Drizzle', 'temperature': 91.94, 'apparentTemperature': 94.97, 'dewPoint': 66.23, 'icon': 'rain', 'windSpeed': 14.27, 'ozone': 288.52, 'precipProbability': 0.26, 'time': 1465601400, 'precipType': 'rain', 'cloudCover': 0.04, 'humidity': 0.43, 'precipIntensity': 0.0061, 'pressure': 997.38}, {'windBearing': 232, 'summary': 'Clear', 'temperature': 93.43, 'apparentTemperature': 96.99, 'dewPoint': 66.64, 'icon': 'clear-day', 'windSpeed': 14.08, 'ozone': 288.78, 'precipProbability': 0.17, 'time': 1465605000, 'precipType': 'rain', 'cloudCover': 0.09, 'humidity': 0.42, 'precipIntensity': 0.0044, 'pressure': 997.78}, {'windBearing': 250, 'summary': 'Clear', 'temperature': 96.28, 'apparentTemperature': 99.95, 'dewPoint': 66.06, 'icon': 'clear-day', 'windSpeed': 13.25, 'ozone': 289.34, 'precipProbability': 0.08, 'time': 1465608600, 'precipType': 'rain', 'cloudCover': 0.22, 'humidity': 0.37, 'precipIntensity': 0.0026, 'pressure': 998.37}, {'windBearing': 270, 'summary': 'Partly Cloudy', 'temperature': 99.57, 'apparentTemperature': 102.96, 'dewPoint': 64.71, 'icon': 'partly-cloudy-day', 'windSpeed': 13.64, 'ozone': 289.83, 'precipProbability': 0.02, 'time': 1465612200, 'precipType': 'rain', 'cloudCover': 0.34, 'humidity': 0.32, 'precipIntensity': 0.0011, 'pressure': 998.88}, {'icon': 'partly-cloudy-day', 'summary': 'Partly Cloudy', 'temperature': 102.84, 'apparentTemperature': 106.23, 'dewPoint': 63.72, 'windBearing': 283, 'windSpeed': 14.42, 'ozone': 289.87, 'precipProbability': 0, 'time': 1465615800, 'cloudCover': 0.4, 'humidity': 0.28, 'precipIntensity': 0, 'pressure': 999.06}, {'icon': 'partly-cloudy-day', 'summary': 'Partly Cloudy', 'temperature': 106.72, 'apparentTemperature': 110.76, 'dewPoint': 63.54, 'windBearing': 292, 'windSpeed': 14.79, 'ozone': 289.47, 'precipProbability': 0, 'time': 1465619400, 'cloudCover': 0.41, 'humidity': 0.25, 'precipIntensity': 0, 'pressure': 998.98}, {'icon': 'partly-cloudy-day', 'summary': 'Partly Cloudy', 'temperature': 110.61, 'apparentTemperature': 115.43, 'dewPoint': 63.69, 'windBearing': 298, 'windSpeed': 14.93, 'ozone': 288.96, 'precipProbability': 0, 'time': 1465623000, 'cloudCover': 0.39, 'humidity': 0.23, 'precipIntensity': 0, 'pressure': 998.69}, {'icon': 'partly-cloudy-day', 'summary': 'Partly Cloudy', 'temperature': 113.56, 'apparentTemperature': 118.72, 'dewPoint': 63.6, 'windBearing': 299, 'windSpeed': 14.89, 'ozone': 288.61, 'precipProbability': 0, 'time': 1465626600, 'cloudCover': 0.34, 'humidity': 0.21, 'precipIntensity': 0, 'pressure': 998.17}, {'windBearing': 296, 'summary': 'Partly Cloudy', 'temperature': 115.57, 'apparentTemperature': 120.64, 'dewPoint': 63.24, 'icon': 'partly-cloudy-day', 'windSpeed': 14.45, 'ozone': 288.33, 'precipProbability': 0.01, 'time': 1465630200, 'precipType': 'rain', 'cloudCover': 0.26, 'humidity': 0.19, 'precipIntensity': 0.0008, 'pressure': 997.34}, {'windBearing': 290, 'summary': 'Clear', 'temperature': 116.53, 'apparentTemperature': 121.21, 'dewPoint': 62.7, 'icon': 'clear-day', 'windSpeed': 13.89, 'ozone': 288.13, 'precipProbability': 0.01, 'time': 1465633800, 'precipType': 'rain', 'cloudCover': 0.19, 'humidity': 0.18, 'precipIntensity': 0.0008, 'pressure': 996.45}, {'windBearing': 288, 'summary': 'Clear', 'temperature': 115.79, 'apparentTemperature': 119.68, 'dewPoint': 61.77, 'icon': 'clear-day', 'windSpeed': 13.26, 'ozone': 288.04, 'precipProbability': 0.01, 'time': 1465637400, 'precipType': 'rain', 'cloudCover': 0.22, 'humidity': 0.18, 'precipIntensity': 0.0009, 'pressure': 995.76}, {'windBearing': 287, 'summary': 'Partly Cloudy', 'temperature': 114.13, 'apparentTemperature': 117.53, 'dewPoint': 61.27, 'icon': 'partly-cloudy-day', 'windSpeed': 12.49, 'ozone': 288.1, 'precipProbability': 0.01, 'time': 1465641000, 'precipType': 'rain', 'cloudCover': 0.38, 'humidity': 0.19, 'precipIntensity': 0.0009, 'pressure': 995.21}, {'windBearing': 287, 'summary': 'Partly Cloudy', 'temperature': 111.98, 'apparentTemperature': 114.93, 'dewPoint': 60.92, 'icon': 'partly-cloudy-day', 'windSpeed': 11.49, 'ozone': 288.19, 'precipProbability': 0.01, 'time': 1465644600, 'precipType': 'rain', 'cloudCover': 0.52, 'humidity': 0.2, 'precipIntensity': 0.001, 'pressure': 994.86}, {'windBearing': 285, 'summary': 'Partly Cloudy', 'temperature': 109.72, 'apparentTemperature': 112.16, 'dewPoint': 60.54, 'icon': 'partly-cloudy-day', 'windSpeed': 10.12, 'ozone': 288.19, 'precipProbability': 0.01, 'time': 1465648200, 'precipType': 'rain', 'cloudCover': 0.53, 'humidity': 0.21, 'precipIntensity': 0.001, 'pressure': 994.86}, {'windBearing': 279, 'summary': 'Partly Cloudy', 'temperature': 107.2, 'apparentTemperature': 109.11, 'dewPoint': 60.24, 'icon': 'partly-cloudy-night', 'windSpeed': 8.21, 'ozone': 288.1, 'precipProbability': 0.02, 'time': 1465651800, 'precipType': 'rain', 'cloudCover': 0.41, 'humidity': 0.22, 'precipIntensity': 0.0012, 'pressure': 995.26}, {'windBearing': 270, 'summary': 'Partly Cloudy', 'temperature': 104.77, 'apparentTemperature': 106.25, 'dewPoint': 60.11, 'icon': 'partly-cloudy-night', 'windSpeed': 6.6, 'ozone': 288.02, 'precipProbability': 0.02, 'time': 1465655400, 'precipType': 'rain', 'cloudCover': 0.26, 'humidity': 0.24, 'precipIntensity': 0.0013, 'pressure': 995.81}, {'windBearing': 262, 'summary': 'Clear', 'temperature': 102.81, 'apparentTemperature': 104.04, 'dewPoint': 60.23, 'icon': 'clear-night', 'windSpeed': 6, 'ozone': 288.04, 'precipProbability': 0.02, 'time': 1465659000, 'precipType': 'rain', 'cloudCover': 0.19, 'humidity': 0.25, 'precipIntensity': 0.0013, 'pressure': 996.23}, {'windBearing': 258, 'summary': 'Clear', 'temperature': 101.28, 'apparentTemperature': 102.4, 'dewPoint': 60.51, 'icon': 'clear-night', 'windSpeed': 6.19, 'ozone': 288.2, 'precipProbability': 0.02, 'time': 1465662600, 'precipType': 'rain', 'cloudCover': 0.18, 'humidity': 0.27, 'precipIntensity': 0.0011, 'pressure': 996.49}, {'windBearing': 258, 'summary': 'Clear', 'temperature': 100.07, 'apparentTemperature': 101.2, 'dewPoint': 60.87, 'icon': 'clear-night', 'windSpeed': 6.76, 'ozone': 288.3, 'precipProbability': 0.01, 'time': 1465666200, 'precipType': 'rain', 'cloudCover': 0.18, 'humidity': 0.28, 'precipIntensity': 0.001, 'pressure': 996.65}, {'windBearing': 260, 'summary': 'Clear', 'temperature': 99.12, 'apparentTemperature': 100.29, 'dewPoint': 61.24, 'icon': 'clear-night', 'windSpeed': 7.59, 'ozone': 288.13, 'precipProbability': 0.02, 'time': 1465669800, 'precipType': 'rain', 'cloudCover': 0.15, 'humidity': 0.29, 'precipIntensity': 0.0013, 'pressure': 996.72}], 'icon': 'partly-cloudy-day', 'summary': 'Partly cloudy starting tomorrow afternoon, continuing until tomorrow evening.'}\n"
     ]
    }
   ],
   "source": [
    "miami_hourly = miami_data['hourly']\n",
    "print(miami_hourly)"
   ]
  },
  {
   "cell_type": "code",
   "execution_count": 34,
   "metadata": {
    "collapsed": false
   },
   "outputs": [
    {
     "ename": "TypeError",
     "evalue": "string indices must be integers",
     "output_type": "error",
     "traceback": [
      "\u001b[1;31m---------------------------------------------------------------------------\u001b[0m",
      "\u001b[1;31mTypeError\u001b[0m                                 Traceback (most recent call last)",
      "\u001b[1;32m<ipython-input-34-454152e01623>\u001b[0m in \u001b[0;36m<module>\u001b[1;34m()\u001b[0m\n\u001b[0;32m      1\u001b[0m \u001b[1;32mfor\u001b[0m \u001b[0mhour\u001b[0m \u001b[1;32min\u001b[0m \u001b[0mmiami_hourly\u001b[0m\u001b[1;33m:\u001b[0m\u001b[1;33m\u001b[0m\u001b[0m\n\u001b[1;32m----> 2\u001b[1;33m     \u001b[0mprint\u001b[0m \u001b[1;33m(\u001b[0m\u001b[1;34m\"Time:\"\u001b[0m\u001b[1;33m,\u001b[0m \u001b[0mhour\u001b[0m\u001b[1;33m[\u001b[0m\u001b[1;34m'time'\u001b[0m\u001b[1;33m]\u001b[0m\u001b[1;33m,\u001b[0m \u001b[1;34m\"Temperature:\"\u001b[0m\u001b[1;33m,\u001b[0m \u001b[0mhour\u001b[0m\u001b[1;33m[\u001b[0m\u001b[1;34m'temperature'\u001b[0m\u001b[1;33m]\u001b[0m\u001b[1;33m)\u001b[0m\u001b[1;33m\u001b[0m\u001b[0m\n\u001b[0m",
      "\u001b[1;31mTypeError\u001b[0m: string indices must be integers"
     ]
    }
   ],
   "source": [
    "for hour in miami_hourly:\n",
    "    print (\"Time:\", hour['time'], \"Temperature:\", hour['temperature'])"
   ]
  },
  {
   "cell_type": "code",
   "execution_count": 37,
   "metadata": {
    "collapsed": false
   },
   "outputs": [
    {
     "name": "stdout",
     "output_type": "stream",
     "text": [
      "dict_keys(['data', 'icon', 'summary'])\n"
     ]
    }
   ],
   "source": [
    "print(miami_hourly.keys())"
   ]
  },
  {
   "cell_type": "code",
   "execution_count": 38,
   "metadata": {
    "collapsed": false
   },
   "outputs": [
    {
     "name": "stdout",
     "output_type": "stream",
     "text": [
      "[{'icon': 'clear-night', 'summary': 'Clear', 'temperature': 97.88, 'apparentTemperature': 98.09, 'dewPoint': 59.71, 'windBearing': 123, 'windSpeed': 7.47, 'ozone': 287.72, 'precipProbability': 0, 'time': 1465497000, 'cloudCover': 0, 'humidity': 0.29, 'precipIntensity': 0, 'pressure': 997.54}, {'icon': 'clear-night', 'summary': 'Clear', 'temperature': 96.65, 'apparentTemperature': 97.08, 'dewPoint': 60.51, 'windBearing': 129, 'windSpeed': 6.77, 'ozone': 287.55, 'precipProbability': 0, 'time': 1465500600, 'cloudCover': 0, 'humidity': 0.3, 'precipIntensity': 0, 'pressure': 997.52}, {'icon': 'clear-night', 'summary': 'Clear', 'temperature': 95.31, 'apparentTemperature': 95.84, 'dewPoint': 61.09, 'windBearing': 137, 'windSpeed': 6.18, 'ozone': 287.39, 'precipProbability': 0, 'time': 1465504200, 'cloudCover': 0, 'humidity': 0.32, 'precipIntensity': 0, 'pressure': 997.52}, {'icon': 'clear-night', 'summary': 'Clear', 'temperature': 94.06, 'apparentTemperature': 94.61, 'dewPoint': 61.45, 'windBearing': 146, 'windSpeed': 5.74, 'ozone': 287.4, 'precipProbability': 0, 'time': 1465507800, 'cloudCover': 0.01, 'humidity': 0.34, 'precipIntensity': 0, 'pressure': 997.55}, {'icon': 'clear-night', 'summary': 'Clear', 'temperature': 92.81, 'apparentTemperature': 93.26, 'dewPoint': 61.49, 'windBearing': 152, 'windSpeed': 5.56, 'ozone': 287.76, 'precipProbability': 0, 'time': 1465511400, 'cloudCover': 0.02, 'humidity': 0.35, 'precipIntensity': 0, 'pressure': 997.61}, {'icon': 'clear-night', 'summary': 'Clear', 'temperature': 92.17, 'apparentTemperature': 92.56, 'dewPoint': 61.48, 'windBearing': 161, 'windSpeed': 4.87, 'ozone': 288.2, 'precipProbability': 0, 'time': 1465515000, 'cloudCover': 0.04, 'humidity': 0.36, 'precipIntensity': 0, 'pressure': 997.73}, {'icon': 'clear-day', 'summary': 'Clear', 'temperature': 93.86, 'apparentTemperature': 94.74, 'dewPoint': 62.13, 'windBearing': 198, 'windSpeed': 3.44, 'ozone': 288.6, 'precipProbability': 0, 'time': 1465518600, 'cloudCover': 0.08, 'humidity': 0.35, 'precipIntensity': 0, 'pressure': 997.96}, {'icon': 'clear-day', 'summary': 'Clear', 'temperature': 97.47, 'apparentTemperature': 99.06, 'dewPoint': 62.49, 'windBearing': 263, 'windSpeed': 5.59, 'ozone': 289.08, 'precipProbability': 0, 'time': 1465522200, 'cloudCover': 0.13, 'humidity': 0.32, 'precipIntensity': 0, 'pressure': 998.36}, {'icon': 'clear-day', 'summary': 'Clear', 'temperature': 101.58, 'apparentTemperature': 103.73, 'dewPoint': 62.19, 'windBearing': 281, 'windSpeed': 10.04, 'ozone': 289.42, 'precipProbability': 0, 'time': 1465525800, 'cloudCover': 0.17, 'humidity': 0.28, 'precipIntensity': 0, 'pressure': 998.7}, {'icon': 'clear-day', 'summary': 'Clear', 'temperature': 105.46, 'apparentTemperature': 107.91, 'dewPoint': 61.55, 'windBearing': 286, 'windSpeed': 12.43, 'ozone': 289.33, 'precipProbability': 0, 'time': 1465529400, 'cloudCover': 0.17, 'humidity': 0.24, 'precipIntensity': 0, 'pressure': 998.73}, {'icon': 'clear-day', 'summary': 'Clear', 'temperature': 110, 'apparentTemperature': 112.82, 'dewPoint': 61.05, 'windBearing': 288, 'windSpeed': 12.81, 'ozone': 288.78, 'precipProbability': 0, 'time': 1465533000, 'cloudCover': 0.11, 'humidity': 0.21, 'precipIntensity': 0, 'pressure': 998.49}, {'icon': 'clear-day', 'summary': 'Clear', 'temperature': 114.24, 'apparentTemperature': 117.02, 'dewPoint': 60.4, 'windBearing': 290, 'windSpeed': 12.4, 'ozone': 288.17, 'precipProbability': 0, 'time': 1465536600, 'cloudCover': 0.07, 'humidity': 0.18, 'precipIntensity': 0, 'pressure': 998.08}, {'icon': 'clear-day', 'summary': 'Clear', 'temperature': 116.44, 'apparentTemperature': 118.49, 'dewPoint': 59.25, 'windBearing': 292, 'windSpeed': 12.21, 'ozone': 287.84, 'precipProbability': 0, 'time': 1465540200, 'cloudCover': 0.14, 'humidity': 0.16, 'precipIntensity': 0, 'pressure': 997.5}, {'icon': 'partly-cloudy-day', 'summary': 'Partly Cloudy', 'temperature': 115.92, 'apparentTemperature': 116.62, 'dewPoint': 57.22, 'windBearing': 294, 'windSpeed': 11.96, 'ozone': 287.69, 'precipProbability': 0, 'time': 1465543800, 'cloudCover': 0.3, 'humidity': 0.15, 'precipIntensity': 0, 'pressure': 996.66}, {'icon': 'partly-cloudy-day', 'summary': 'Partly Cloudy', 'temperature': 114.6, 'apparentTemperature': 114.24, 'dewPoint': 55.42, 'windBearing': 297, 'windSpeed': 11.52, 'ozone': 287.71, 'precipProbability': 0, 'time': 1465547400, 'cloudCover': 0.48, 'humidity': 0.15, 'precipIntensity': 0, 'pressure': 995.78}, {'icon': 'partly-cloudy-day', 'summary': 'Mostly Cloudy', 'temperature': 113.42, 'apparentTemperature': 112.4, 'dewPoint': 54.15, 'windBearing': 298, 'windSpeed': 10.79, 'ozone': 287.99, 'precipProbability': 0, 'time': 1465551000, 'cloudCover': 0.6, 'humidity': 0.15, 'precipIntensity': 0, 'pressure': 995.11}, {'icon': 'partly-cloudy-day', 'summary': 'Mostly Cloudy', 'temperature': 112.25, 'apparentTemperature': 110.91, 'dewPoint': 53.48, 'windBearing': 299, 'windSpeed': 9.62, 'ozone': 288.59, 'precipProbability': 0, 'time': 1465554600, 'cloudCover': 0.7, 'humidity': 0.15, 'precipIntensity': 0, 'pressure': 994.64}, {'icon': 'partly-cloudy-day', 'summary': 'Mostly Cloudy', 'temperature': 110.86, 'apparentTemperature': 109.46, 'dewPoint': 53.35, 'windBearing': 298, 'windSpeed': 8.37, 'ozone': 289.23, 'precipProbability': 0, 'time': 1465558200, 'cloudCover': 0.75, 'humidity': 0.15, 'precipIntensity': 0, 'pressure': 994.37}, {'icon': 'partly-cloudy-day', 'summary': 'Mostly Cloudy', 'temperature': 109.06, 'apparentTemperature': 107.72, 'dewPoint': 53.58, 'windBearing': 298, 'windSpeed': 7.48, 'ozone': 289.66, 'precipProbability': 0, 'time': 1465561800, 'cloudCover': 0.69, 'humidity': 0.16, 'precipIntensity': 0, 'pressure': 994.35}, {'icon': 'partly-cloudy-night', 'summary': 'Partly Cloudy', 'temperature': 106.76, 'apparentTemperature': 105.51, 'dewPoint': 54.06, 'windBearing': 299, 'windSpeed': 7.01, 'ozone': 289.93, 'precipProbability': 0, 'time': 1465565400, 'cloudCover': 0.49, 'humidity': 0.18, 'precipIntensity': 0, 'pressure': 994.58}, {'icon': 'partly-cloudy-night', 'summary': 'Partly Cloudy', 'temperature': 104.36, 'apparentTemperature': 103.26, 'dewPoint': 54.92, 'windBearing': 297, 'windSpeed': 6.3, 'ozone': 290.14, 'precipProbability': 0, 'time': 1465569000, 'cloudCover': 0.29, 'humidity': 0.2, 'precipIntensity': 0, 'pressure': 994.97}, {'windBearing': 280, 'summary': 'Clear', 'temperature': 102.18, 'apparentTemperature': 101.42, 'dewPoint': 56.28, 'icon': 'clear-night', 'windSpeed': 4.77, 'ozone': 290.39, 'precipProbability': 0.01, 'time': 1465572600, 'precipType': 'rain', 'cloudCover': 0.19, 'humidity': 0.22, 'precipIntensity': 0.0008, 'pressure': 995.44}, {'windBearing': 227, 'summary': 'Clear', 'temperature': 100.09, 'apparentTemperature': 99.77, 'dewPoint': 57.88, 'icon': 'clear-night', 'windSpeed': 4.42, 'ozone': 290.71, 'precipProbability': 0.03, 'time': 1465576200, 'precipType': 'rain', 'cloudCover': 0.18, 'humidity': 0.25, 'precipIntensity': 0.0016, 'pressure': 996.05}, {'windBearing': 199, 'summary': 'Clear', 'temperature': 98.25, 'apparentTemperature': 98.39, 'dewPoint': 59.45, 'icon': 'clear-night', 'windSpeed': 6.99, 'ozone': 290.87, 'precipProbability': 0.09, 'time': 1465579800, 'precipType': 'rain', 'cloudCover': 0.2, 'humidity': 0.28, 'precipIntensity': 0.0028, 'pressure': 996.61}, {'windBearing': 201, 'summary': 'Clear', 'temperature': 96.88, 'apparentTemperature': 97.56, 'dewPoint': 60.96, 'icon': 'clear-night', 'windSpeed': 8.41, 'ozone': 290.58, 'precipProbability': 0.18, 'time': 1465583400, 'precipType': 'rain', 'cloudCover': 0.18, 'humidity': 0.31, 'precipIntensity': 0.0046, 'pressure': 996.86}, {'windBearing': 218, 'summary': 'Drizzle', 'temperature': 95.86, 'apparentTemperature': 97.33, 'dewPoint': 62.72, 'icon': 'rain', 'windSpeed': 8.75, 'ozone': 289.78, 'precipProbability': 0.33, 'time': 1465587000, 'precipType': 'rain', 'cloudCover': 0.15, 'humidity': 0.34, 'precipIntensity': 0.0072, 'pressure': 996.8}, {'windBearing': 235, 'summary': 'Light Rain', 'temperature': 94.97, 'apparentTemperature': 97.21, 'dewPoint': 64.29, 'icon': 'rain', 'windSpeed': 9.85, 'ozone': 288.95, 'precipProbability': 0.46, 'time': 1465590600, 'precipType': 'rain', 'cloudCover': 0.12, 'humidity': 0.37, 'precipIntensity': 0.0094, 'pressure': 996.71}, {'windBearing': 238, 'summary': 'Light Rain', 'temperature': 93.92, 'apparentTemperature': 96.64, 'dewPoint': 65.3, 'icon': 'rain', 'windSpeed': 11.32, 'ozone': 288.54, 'precipProbability': 0.46, 'time': 1465594200, 'precipType': 'rain', 'cloudCover': 0.09, 'humidity': 0.39, 'precipIntensity': 0.0097, 'pressure': 996.82}, {'windBearing': 231, 'summary': 'Drizzle', 'temperature': 92.62, 'apparentTemperature': 95.57, 'dewPoint': 65.95, 'icon': 'rain', 'windSpeed': 12.97, 'ozone': 288.43, 'precipProbability': 0.39, 'time': 1465597800, 'precipType': 'rain', 'cloudCover': 0.05, 'humidity': 0.42, 'precipIntensity': 0.0082, 'pressure': 997.06}, {'windBearing': 226, 'summary': 'Drizzle', 'temperature': 91.94, 'apparentTemperature': 94.97, 'dewPoint': 66.23, 'icon': 'rain', 'windSpeed': 14.27, 'ozone': 288.52, 'precipProbability': 0.26, 'time': 1465601400, 'precipType': 'rain', 'cloudCover': 0.04, 'humidity': 0.43, 'precipIntensity': 0.0061, 'pressure': 997.38}, {'windBearing': 232, 'summary': 'Clear', 'temperature': 93.43, 'apparentTemperature': 96.99, 'dewPoint': 66.64, 'icon': 'clear-day', 'windSpeed': 14.08, 'ozone': 288.78, 'precipProbability': 0.17, 'time': 1465605000, 'precipType': 'rain', 'cloudCover': 0.09, 'humidity': 0.42, 'precipIntensity': 0.0044, 'pressure': 997.78}, {'windBearing': 250, 'summary': 'Clear', 'temperature': 96.28, 'apparentTemperature': 99.95, 'dewPoint': 66.06, 'icon': 'clear-day', 'windSpeed': 13.25, 'ozone': 289.34, 'precipProbability': 0.08, 'time': 1465608600, 'precipType': 'rain', 'cloudCover': 0.22, 'humidity': 0.37, 'precipIntensity': 0.0026, 'pressure': 998.37}, {'windBearing': 270, 'summary': 'Partly Cloudy', 'temperature': 99.57, 'apparentTemperature': 102.96, 'dewPoint': 64.71, 'icon': 'partly-cloudy-day', 'windSpeed': 13.64, 'ozone': 289.83, 'precipProbability': 0.02, 'time': 1465612200, 'precipType': 'rain', 'cloudCover': 0.34, 'humidity': 0.32, 'precipIntensity': 0.0011, 'pressure': 998.88}, {'icon': 'partly-cloudy-day', 'summary': 'Partly Cloudy', 'temperature': 102.84, 'apparentTemperature': 106.23, 'dewPoint': 63.72, 'windBearing': 283, 'windSpeed': 14.42, 'ozone': 289.87, 'precipProbability': 0, 'time': 1465615800, 'cloudCover': 0.4, 'humidity': 0.28, 'precipIntensity': 0, 'pressure': 999.06}, {'icon': 'partly-cloudy-day', 'summary': 'Partly Cloudy', 'temperature': 106.72, 'apparentTemperature': 110.76, 'dewPoint': 63.54, 'windBearing': 292, 'windSpeed': 14.79, 'ozone': 289.47, 'precipProbability': 0, 'time': 1465619400, 'cloudCover': 0.41, 'humidity': 0.25, 'precipIntensity': 0, 'pressure': 998.98}, {'icon': 'partly-cloudy-day', 'summary': 'Partly Cloudy', 'temperature': 110.61, 'apparentTemperature': 115.43, 'dewPoint': 63.69, 'windBearing': 298, 'windSpeed': 14.93, 'ozone': 288.96, 'precipProbability': 0, 'time': 1465623000, 'cloudCover': 0.39, 'humidity': 0.23, 'precipIntensity': 0, 'pressure': 998.69}, {'icon': 'partly-cloudy-day', 'summary': 'Partly Cloudy', 'temperature': 113.56, 'apparentTemperature': 118.72, 'dewPoint': 63.6, 'windBearing': 299, 'windSpeed': 14.89, 'ozone': 288.61, 'precipProbability': 0, 'time': 1465626600, 'cloudCover': 0.34, 'humidity': 0.21, 'precipIntensity': 0, 'pressure': 998.17}, {'windBearing': 296, 'summary': 'Partly Cloudy', 'temperature': 115.57, 'apparentTemperature': 120.64, 'dewPoint': 63.24, 'icon': 'partly-cloudy-day', 'windSpeed': 14.45, 'ozone': 288.33, 'precipProbability': 0.01, 'time': 1465630200, 'precipType': 'rain', 'cloudCover': 0.26, 'humidity': 0.19, 'precipIntensity': 0.0008, 'pressure': 997.34}, {'windBearing': 290, 'summary': 'Clear', 'temperature': 116.53, 'apparentTemperature': 121.21, 'dewPoint': 62.7, 'icon': 'clear-day', 'windSpeed': 13.89, 'ozone': 288.13, 'precipProbability': 0.01, 'time': 1465633800, 'precipType': 'rain', 'cloudCover': 0.19, 'humidity': 0.18, 'precipIntensity': 0.0008, 'pressure': 996.45}, {'windBearing': 288, 'summary': 'Clear', 'temperature': 115.79, 'apparentTemperature': 119.68, 'dewPoint': 61.77, 'icon': 'clear-day', 'windSpeed': 13.26, 'ozone': 288.04, 'precipProbability': 0.01, 'time': 1465637400, 'precipType': 'rain', 'cloudCover': 0.22, 'humidity': 0.18, 'precipIntensity': 0.0009, 'pressure': 995.76}, {'windBearing': 287, 'summary': 'Partly Cloudy', 'temperature': 114.13, 'apparentTemperature': 117.53, 'dewPoint': 61.27, 'icon': 'partly-cloudy-day', 'windSpeed': 12.49, 'ozone': 288.1, 'precipProbability': 0.01, 'time': 1465641000, 'precipType': 'rain', 'cloudCover': 0.38, 'humidity': 0.19, 'precipIntensity': 0.0009, 'pressure': 995.21}, {'windBearing': 287, 'summary': 'Partly Cloudy', 'temperature': 111.98, 'apparentTemperature': 114.93, 'dewPoint': 60.92, 'icon': 'partly-cloudy-day', 'windSpeed': 11.49, 'ozone': 288.19, 'precipProbability': 0.01, 'time': 1465644600, 'precipType': 'rain', 'cloudCover': 0.52, 'humidity': 0.2, 'precipIntensity': 0.001, 'pressure': 994.86}, {'windBearing': 285, 'summary': 'Partly Cloudy', 'temperature': 109.72, 'apparentTemperature': 112.16, 'dewPoint': 60.54, 'icon': 'partly-cloudy-day', 'windSpeed': 10.12, 'ozone': 288.19, 'precipProbability': 0.01, 'time': 1465648200, 'precipType': 'rain', 'cloudCover': 0.53, 'humidity': 0.21, 'precipIntensity': 0.001, 'pressure': 994.86}, {'windBearing': 279, 'summary': 'Partly Cloudy', 'temperature': 107.2, 'apparentTemperature': 109.11, 'dewPoint': 60.24, 'icon': 'partly-cloudy-night', 'windSpeed': 8.21, 'ozone': 288.1, 'precipProbability': 0.02, 'time': 1465651800, 'precipType': 'rain', 'cloudCover': 0.41, 'humidity': 0.22, 'precipIntensity': 0.0012, 'pressure': 995.26}, {'windBearing': 270, 'summary': 'Partly Cloudy', 'temperature': 104.77, 'apparentTemperature': 106.25, 'dewPoint': 60.11, 'icon': 'partly-cloudy-night', 'windSpeed': 6.6, 'ozone': 288.02, 'precipProbability': 0.02, 'time': 1465655400, 'precipType': 'rain', 'cloudCover': 0.26, 'humidity': 0.24, 'precipIntensity': 0.0013, 'pressure': 995.81}, {'windBearing': 262, 'summary': 'Clear', 'temperature': 102.81, 'apparentTemperature': 104.04, 'dewPoint': 60.23, 'icon': 'clear-night', 'windSpeed': 6, 'ozone': 288.04, 'precipProbability': 0.02, 'time': 1465659000, 'precipType': 'rain', 'cloudCover': 0.19, 'humidity': 0.25, 'precipIntensity': 0.0013, 'pressure': 996.23}, {'windBearing': 258, 'summary': 'Clear', 'temperature': 101.28, 'apparentTemperature': 102.4, 'dewPoint': 60.51, 'icon': 'clear-night', 'windSpeed': 6.19, 'ozone': 288.2, 'precipProbability': 0.02, 'time': 1465662600, 'precipType': 'rain', 'cloudCover': 0.18, 'humidity': 0.27, 'precipIntensity': 0.0011, 'pressure': 996.49}, {'windBearing': 258, 'summary': 'Clear', 'temperature': 100.07, 'apparentTemperature': 101.2, 'dewPoint': 60.87, 'icon': 'clear-night', 'windSpeed': 6.76, 'ozone': 288.3, 'precipProbability': 0.01, 'time': 1465666200, 'precipType': 'rain', 'cloudCover': 0.18, 'humidity': 0.28, 'precipIntensity': 0.001, 'pressure': 996.65}, {'windBearing': 260, 'summary': 'Clear', 'temperature': 99.12, 'apparentTemperature': 100.29, 'dewPoint': 61.24, 'icon': 'clear-night', 'windSpeed': 7.59, 'ozone': 288.13, 'precipProbability': 0.02, 'time': 1465669800, 'precipType': 'rain', 'cloudCover': 0.15, 'humidity': 0.29, 'precipIntensity': 0.0013, 'pressure': 996.72}]\n"
     ]
    }
   ],
   "source": [
    "print(miami_hourly['data'])"
   ]
  },
  {
   "cell_type": "code",
   "execution_count": 42,
   "metadata": {
    "collapsed": false
   },
   "outputs": [
    {
     "name": "stdout",
     "output_type": "stream",
     "text": [
      "{'icon': 'clear-night', 'summary': 'Clear', 'temperature': 97.88, 'apparentTemperature': 98.09, 'dewPoint': 59.71, 'windBearing': 123, 'windSpeed': 7.47, 'ozone': 287.72, 'precipProbability': 0, 'time': 1465497000, 'cloudCover': 0, 'humidity': 0.29, 'precipIntensity': 0, 'pressure': 997.54}\n"
     ]
    }
   ],
   "source": [
    "print(miami_hourly['data'][0])"
   ]
  },
  {
   "cell_type": "code",
   "execution_count": 44,
   "metadata": {
    "collapsed": false
   },
   "outputs": [
    {
     "name": "stdout",
     "output_type": "stream",
     "text": [
      "The weather is 97.88 degrees\n",
      "The weather is 97.88 degrees\n",
      "The weather is 96.65 degrees\n",
      "The weather is 96.65 degrees\n",
      "The weather is 95.31 degrees\n",
      "The weather is 95.31 degrees\n",
      "The weather is 94.06 degrees\n",
      "The weather is 94.06 degrees\n",
      "The weather is 92.81 degrees\n",
      "The weather is 92.81 degrees\n",
      "The weather is 92.17 degrees\n",
      "The weather is 92.17 degrees\n",
      "The weather is 93.86 degrees\n",
      "The weather is 93.86 degrees\n",
      "The weather is 97.47 degrees\n",
      "The weather is 97.47 degrees\n",
      "The weather is 101.58 degrees\n",
      "The weather is 101.58 degrees\n",
      "The weather is 105.46 degrees\n",
      "The weather is 105.46 degrees\n",
      "The weather is 110 degrees\n",
      "The weather is 110 degrees\n",
      "The weather is 114.24 degrees\n",
      "The weather is 114.24 degrees\n",
      "The weather is 116.44 degrees\n",
      "The weather is 116.44 degrees\n",
      "The weather is 115.92 degrees\n",
      "The weather is 115.92 degrees\n",
      "The weather is 114.6 degrees\n",
      "The weather is 114.6 degrees\n",
      "The weather is 113.42 degrees\n",
      "The weather is 113.42 degrees and cloudy\n",
      "The weather is 112.25 degrees\n",
      "The weather is 112.25 degrees and cloudy\n",
      "The weather is 110.86 degrees\n",
      "The weather is 110.86 degrees and cloudy\n",
      "The weather is 109.06 degrees\n",
      "The weather is 109.06 degrees and cloudy\n",
      "The weather is 106.76 degrees\n",
      "The weather is 106.76 degrees\n",
      "The weather is 104.36 degrees\n",
      "The weather is 104.36 degrees\n",
      "The weather is 102.18 degrees\n",
      "The weather is 102.18 degrees\n",
      "The weather is 100.09 degrees\n",
      "The weather is 100.09 degrees\n",
      "The weather is 98.25 degrees\n",
      "The weather is 98.25 degrees\n",
      "The weather is 96.88 degrees\n",
      "The weather is 96.88 degrees\n",
      "The weather is 95.86 degrees\n",
      "The weather is 95.86 degrees\n",
      "The weather is 94.97 degrees\n",
      "The weather is 94.97 degrees\n",
      "The weather is 93.92 degrees\n",
      "The weather is 93.92 degrees\n",
      "The weather is 92.62 degrees\n",
      "The weather is 92.62 degrees\n",
      "The weather is 91.94 degrees\n",
      "The weather is 91.94 degrees\n",
      "The weather is 93.43 degrees\n",
      "The weather is 93.43 degrees\n",
      "The weather is 96.28 degrees\n",
      "The weather is 96.28 degrees\n",
      "The weather is 99.57 degrees\n",
      "The weather is 99.57 degrees\n",
      "The weather is 102.84 degrees\n",
      "The weather is 102.84 degrees\n",
      "The weather is 106.72 degrees\n",
      "The weather is 106.72 degrees\n",
      "The weather is 110.61 degrees\n",
      "The weather is 110.61 degrees\n",
      "The weather is 113.56 degrees\n",
      "The weather is 113.56 degrees\n",
      "The weather is 115.57 degrees\n",
      "The weather is 115.57 degrees\n",
      "The weather is 116.53 degrees\n",
      "The weather is 116.53 degrees\n",
      "The weather is 115.79 degrees\n",
      "The weather is 115.79 degrees\n",
      "The weather is 114.13 degrees\n",
      "The weather is 114.13 degrees\n",
      "The weather is 111.98 degrees\n",
      "The weather is 111.98 degrees and cloudy\n",
      "The weather is 109.72 degrees\n",
      "The weather is 109.72 degrees and cloudy\n",
      "The weather is 107.2 degrees\n",
      "The weather is 107.2 degrees\n",
      "The weather is 104.77 degrees\n",
      "The weather is 104.77 degrees\n",
      "The weather is 102.81 degrees\n",
      "The weather is 102.81 degrees\n",
      "The weather is 101.28 degrees\n",
      "The weather is 101.28 degrees\n",
      "The weather is 100.07 degrees\n",
      "The weather is 100.07 degrees\n",
      "The weather is 99.12 degrees\n",
      "The weather is 99.12 degrees\n"
     ]
    }
   ],
   "source": [
    "for hour in (miami_hourly['data']):\n",
    "    print(\"The weather is\", hour['temperature'], \"degrees\")\n",
    "    if hour['cloudCover'] >= .5:\n",
    "        print(\"The weather is\", hour['temperature'], \"degrees and cloudy\")\n",
    "    else:\n",
    "        print(\"The weather is\", hour['temperature'], \"degrees\")"
   ]
  },
  {
   "cell_type": "code",
   "execution_count": 46,
   "metadata": {
    "collapsed": false
   },
   "outputs": [
    {
     "name": "stdout",
     "output_type": "stream",
     "text": [
      "{\"latitude\":40.7829,\"longitude\":73.9654,\"timezone\":\"Asia/Bishkek\",\"offset\":6,\"currently\":{\"time\":346593600,\"summary\":\"Mostly Cloudy\",\"icon\":\"partly-cloudy-night\",\"precipType\":\"rain\",\"temperature\":41,\"apparentTemperature\":41,\"dewPoint\":28.19,\"humidity\":0.6,\"windSpeed\":0.24,\"windBearing\":88,\"visibility\":6.56,\"cloudCover\":0.75},\"hourly\":{\"summary\":\"Partly cloudy starting in the afternoon.\",\"icon\":\"partly-cloudy-night\",\"data\":[{\"time\":346528800,\"summary\":\"Mostly Cloudy\",\"icon\":\"partly-cloudy-night\",\"precipType\":\"rain\",\"temperature\":32.33,\"apparentTemperature\":28.99,\"dewPoint\":23.35,\"humidity\":0.69,\"windSpeed\":3.54,\"windBearing\":82,\"cloudCover\":0.75},{\"time\":346532400,\"summary\":\"Partly Cloudy\",\"icon\":\"partly-cloudy-night\",\"precipType\":\"snow\",\"temperature\":29.07,\"apparentTemperature\":29.07,\"dewPoint\":21.41,\"humidity\":0.73,\"windSpeed\":2.48,\"windBearing\":46,\"cloudCover\":0.54},{\"time\":346536000,\"summary\":\"Partly Cloudy\",\"icon\":\"partly-cloudy-night\",\"precipType\":\"snow\",\"temperature\":25.25,\"apparentTemperature\":25.25,\"dewPoint\":19.26,\"humidity\":0.78,\"windSpeed\":1.78,\"windBearing\":355,\"cloudCover\":0.28},{\"time\":346539600,\"summary\":\"Clear\",\"icon\":\"clear-night\",\"precipType\":\"snow\",\"temperature\":22.55,\"apparentTemperature\":22.55,\"dewPoint\":17.53,\"humidity\":0.81,\"windSpeed\":1.96,\"windBearing\":323,\"cloudCover\":0.1},{\"time\":346543200,\"summary\":\"Clear\",\"icon\":\"clear-night\",\"precipType\":\"snow\",\"temperature\":22.01,\"apparentTemperature\":22.01,\"dewPoint\":16.71,\"humidity\":0.8,\"windSpeed\":1.29,\"windBearing\":333,\"cloudCover\":0.06},{\"time\":346546800,\"summary\":\"Clear\",\"icon\":\"clear-night\",\"precipType\":\"snow\",\"temperature\":22.58,\"apparentTemperature\":22.58,\"dewPoint\":16.42,\"humidity\":0.77,\"windSpeed\":1,\"windBearing\":62,\"cloudCover\":0.09},{\"time\":346550400,\"summary\":\"Clear\",\"icon\":\"clear-night\",\"precipType\":\"snow\",\"temperature\":22.88,\"apparentTemperature\":22.88,\"dewPoint\":16.16,\"humidity\":0.75,\"windSpeed\":2.02,\"windBearing\":82,\"cloudCover\":0.12},{\"time\":346554000,\"summary\":\"Clear\",\"icon\":\"clear-night\",\"precipType\":\"snow\",\"temperature\":21.87,\"apparentTemperature\":21.87,\"dewPoint\":15.74,\"humidity\":0.77,\"windSpeed\":2.69,\"windBearing\":60,\"visibility\":7.03,\"cloudCover\":0.16},{\"time\":346557600,\"summary\":\"Clear\",\"icon\":\"clear-night\",\"precipType\":\"snow\",\"temperature\":20.58,\"apparentTemperature\":15.28,\"dewPoint\":15.34,\"humidity\":0.8,\"windSpeed\":3.72,\"windBearing\":38,\"visibility\":7.03,\"cloudCover\":0.2},{\"time\":346561200,\"summary\":\"Clear\",\"icon\":\"clear-day\",\"precipType\":\"snow\",\"temperature\":20.66,\"apparentTemperature\":14.98,\"dewPoint\":15.25,\"humidity\":0.79,\"windSpeed\":4,\"windBearing\":30,\"visibility\":7.03,\"cloudCover\":0.23},{\"time\":346564800,\"summary\":\"Clear\",\"icon\":\"clear-day\",\"precipType\":\"snow\",\"temperature\":23.19,\"apparentTemperature\":23.19,\"dewPoint\":15.22,\"humidity\":0.71,\"windSpeed\":2.22,\"windBearing\":39,\"visibility\":8.02,\"cloudCover\":0.21},{\"time\":346568400,\"summary\":\"Clear\",\"icon\":\"clear-day\",\"precipType\":\"snow\",\"temperature\":27.09,\"apparentTemperature\":27.09,\"dewPoint\":14.85,\"humidity\":0.59,\"windSpeed\":1.17,\"windBearing\":153,\"visibility\":9.01,\"cloudCover\":0.18},{\"time\":346572000,\"summary\":\"Clear\",\"icon\":\"clear-day\",\"precipType\":\"snow\",\"temperature\":30.77,\"apparentTemperature\":30.77,\"dewPoint\":15.17,\"humidity\":0.52,\"windSpeed\":2.81,\"windBearing\":184,\"visibility\":10,\"cloudCover\":0.18},{\"time\":346575600,\"summary\":\"Partly Cloudy\",\"icon\":\"partly-cloudy-day\",\"precipType\":\"rain\",\"temperature\":33.85,\"apparentTemperature\":33.85,\"dewPoint\":18.33,\"humidity\":0.52,\"windSpeed\":2.5,\"windBearing\":197,\"visibility\":9.89,\"cloudCover\":0.25},{\"time\":346579200,\"summary\":\"Partly Cloudy\",\"icon\":\"partly-cloudy-day\",\"precipType\":\"rain\",\"temperature\":36.71,\"apparentTemperature\":36.71,\"dewPoint\":23.01,\"humidity\":0.57,\"windSpeed\":1.47,\"windBearing\":229,\"visibility\":9.29,\"cloudCover\":0.34},{\"time\":346582800,\"summary\":\"Partly Cloudy\",\"icon\":\"partly-cloudy-day\",\"precipType\":\"rain\",\"temperature\":38.9,\"apparentTemperature\":38.9,\"dewPoint\":26.54,\"humidity\":0.61,\"windSpeed\":1.22,\"windBearing\":275,\"visibility\":8.61,\"cloudCover\":0.44},{\"time\":346586400,\"summary\":\"Partly Cloudy\",\"icon\":\"partly-cloudy-day\",\"precipType\":\"rain\",\"temperature\":40.57,\"apparentTemperature\":40.57,\"dewPoint\":27.95,\"humidity\":0.6,\"windSpeed\":0.95,\"windBearing\":296,\"visibility\":7.93,\"cloudCover\":0.57},{\"time\":346590000,\"summary\":\"Mostly Cloudy\",\"icon\":\"partly-cloudy-day\",\"precipType\":\"rain\",\"temperature\":41.58,\"apparentTemperature\":41.58,\"dewPoint\":28.27,\"humidity\":0.59,\"windSpeed\":0.43,\"windBearing\":330,\"visibility\":7.24,\"cloudCover\":0.69},{\"time\":346593600,\"summary\":\"Mostly Cloudy\",\"icon\":\"partly-cloudy-night\",\"precipType\":\"rain\",\"temperature\":41,\"apparentTemperature\":41,\"dewPoint\":28.19,\"humidity\":0.6,\"windSpeed\":0.24,\"windBearing\":88,\"visibility\":6.56,\"cloudCover\":0.75},{\"time\":346597200,\"summary\":\"Mostly Cloudy\",\"icon\":\"partly-cloudy-night\",\"precipType\":\"rain\",\"temperature\":37.76,\"apparentTemperature\":37.76,\"dewPoint\":27.76,\"humidity\":0.67,\"windSpeed\":1.02,\"windBearing\":167,\"visibility\":6.56,\"cloudCover\":0.68},{\"time\":346600800,\"summary\":\"Partly Cloudy\",\"icon\":\"partly-cloudy-night\",\"precipType\":\"rain\",\"temperature\":32.93,\"apparentTemperature\":32.93,\"dewPoint\":26.34,\"humidity\":0.76,\"windSpeed\":2.33,\"windBearing\":179,\"visibility\":6.56,\"cloudCover\":0.54},{\"time\":346604400,\"summary\":\"Partly Cloudy\",\"icon\":\"partly-cloudy-night\",\"precipType\":\"snow\",\"temperature\":28.81,\"apparentTemperature\":25.63,\"dewPoint\":24.36,\"humidity\":0.83,\"windSpeed\":3.05,\"windBearing\":180,\"cloudCover\":0.43},{\"time\":346608000,\"summary\":\"Partly Cloudy\",\"icon\":\"partly-cloudy-night\",\"precipType\":\"snow\",\"temperature\":26.25,\"apparentTemperature\":26.25,\"dewPoint\":22.19,\"humidity\":0.84,\"windSpeed\":2.51,\"windBearing\":171,\"cloudCover\":0.39},{\"time\":346611600,\"summary\":\"Partly Cloudy\",\"icon\":\"partly-cloudy-night\",\"precipType\":\"snow\",\"temperature\":24.39,\"apparentTemperature\":24.39,\"dewPoint\":19.91,\"humidity\":0.83,\"windSpeed\":1.59,\"windBearing\":145,\"cloudCover\":0.38}]},\"daily\":{\"data\":[{\"time\":346528800,\"summary\":\"Partly cloudy starting in the afternoon.\",\"icon\":\"partly-cloudy-night\",\"sunriseTime\":346559286,\"sunsetTime\":346592593,\"moonPhase\":0.62,\"precipType\":\"snow\",\"temperatureMin\":20.58,\"temperatureMinTime\":346557600,\"temperatureMax\":41.58,\"temperatureMaxTime\":346590000,\"apparentTemperatureMin\":14.98,\"apparentTemperatureMinTime\":346561200,\"apparentTemperatureMax\":41.58,\"apparentTemperatureMaxTime\":346590000,\"dewPoint\":20.64,\"humidity\":0.71,\"windSpeed\":0.51,\"windBearing\":88,\"visibility\":7.91,\"cloudCover\":0.36}]},\"flags\":{\"sources\":[\"isd\"],\"isd-stations\":[\"386130-99999\",\"386150-99999\",\"386270-99999\",\"387450-99999\",\"517010-99999\"],\"units\":\"us\"}}\n",
      "dict_keys(['timezone', 'daily', 'latitude', 'longitude', 'currently', 'hourly', 'flags', 'offset'])\n"
     ]
    }
   ],
   "source": [
    "response = requests.get('https://api.forecast.io/forecast/a69e446312b60b9982fba351359a544f/40.7829,73.9654,346593600')\n",
    "print(response.text)\n",
    "xmas_1980 = response.json()\n",
    "print(xmas_1980.keys())"
   ]
  },
  {
   "cell_type": "code",
   "execution_count": 48,
   "metadata": {
    "collapsed": false
   },
   "outputs": [
    {
     "name": "stdout",
     "output_type": "stream",
     "text": [
      "41\n"
     ]
    }
   ],
   "source": [
    "print(xmas_1980['currently']['temperature'])"
   ]
  },
  {
   "cell_type": "code",
   "execution_count": 50,
   "metadata": {
    "collapsed": false
   },
   "outputs": [
    {
     "name": "stdout",
     "output_type": "stream",
     "text": [
      "32.08\n"
     ]
    }
   ],
   "source": [
    "response = requests.get('https://api.forecast.io/forecast/a69e446312b60b9982fba351359a544f/40.7829,73.9654,662126400')\n",
    "xmas_1990 = response.json()\n",
    "print(xmas_1990['currently']['temperature'])"
   ]
  },
  {
   "cell_type": "code",
   "execution_count": 51,
   "metadata": {
    "collapsed": false
   },
   "outputs": [
    {
     "name": "stdout",
     "output_type": "stream",
     "text": [
      "33.79\n"
     ]
    }
   ],
   "source": [
    "response = requests.get('https://api.forecast.io/forecast/a69e446312b60b9982fba351359a544f/40.7829,73.9654,977745600')\n",
    "xmas_2000 = response.json()\n",
    "print(xmas_2000['currently']['temperature'])"
   ]
  },
  {
   "cell_type": "code",
   "execution_count": null,
   "metadata": {
    "collapsed": true
   },
   "outputs": [],
   "source": []
  }
 ],
 "metadata": {
  "kernelspec": {
   "display_name": "Python 3",
   "language": "python",
   "name": "python3"
  },
  "language_info": {
   "codemirror_mode": {
    "name": "ipython",
    "version": 3
   },
   "file_extension": ".py",
   "mimetype": "text/x-python",
   "name": "python",
   "nbconvert_exporter": "python",
   "pygments_lexer": "ipython3",
   "version": "3.4.3"
  }
 },
 "nbformat": 4,
 "nbformat_minor": 0
}
