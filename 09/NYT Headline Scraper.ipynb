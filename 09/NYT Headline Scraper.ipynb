{
 "cells": [
  {
   "cell_type": "code",
   "execution_count": 7,
   "metadata": {
    "collapsed": false
   },
   "outputs": [],
   "source": [
    "import requests\n",
    "from bs4 import BeautifulSoup "
   ]
  },
  {
   "cell_type": "code",
   "execution_count": 5,
   "metadata": {
    "collapsed": false
   },
   "outputs": [
    {
     "name": "stdout",
     "output_type": "stream",
     "text": [
      "Collecting requests\n",
      "  Downloading requests-2.10.0-py2.py3-none-any.whl (506kB)\n",
      "Installing collected packages: requests\n",
      "Successfully installed requests-2.10.0\n"
     ]
    }
   ],
   "source": [
    "!pip install requests"
   ]
  },
  {
   "cell_type": "code",
   "execution_count": 12,
   "metadata": {
    "collapsed": true
   },
   "outputs": [],
   "source": [
    "#Grab the NYT homepage\n",
    "response = requests.get(\"http://www.nytimes.com\")"
   ]
  },
  {
   "cell_type": "code",
   "execution_count": 13,
   "metadata": {
    "collapsed": true
   },
   "outputs": [],
   "source": [
    "#Feed it into BeautifulSoup\n",
    "doc = BeautifulSoup(response.text, 'html.parser')"
   ]
  },
  {
   "cell_type": "code",
   "execution_count": 15,
   "metadata": {
    "collapsed": false
   },
   "outputs": [
    {
     "data": {
      "text/plain": [
       "141"
      ]
     },
     "execution_count": 15,
     "metadata": {},
     "output_type": "execute_result"
    }
   ],
   "source": [
    "#Get out the stories\n",
    "stories = doc.find_all(\"article\", { 'class': 'story'})\n",
    "len(stories)"
   ]
  },
  {
   "cell_type": "code",
   "execution_count": 20,
   "metadata": {
    "collapsed": false
   },
   "outputs": [],
   "source": [
    "all_stories = []\n",
    "#Grab their headlines and bylines\n",
    "for story in stories:\n",
    "    #Grab all of the h2's inside of the story\n",
    "    headline = story.find('h2', {'class': 'story-heading'})\n",
    "    #If a headline exists, then process the rest!\n",
    "    if headline:\n",
    "        #loads of whitespace\n",
    "        headline_text = headline.text.strip()\n",
    "        #make a dictionary with the headline\n",
    "        this_story = { 'headline': headline_text}\n",
    "        byline = story.find('p', {'class': 'byline'})\n",
    "        #not all have a byline\n",
    "        if byline:\n",
    "            byline_text = byline.text.strip()\n",
    "            this_story['byline'] = byline_text\n",
    "        all_stories.append(this_story)"
   ]
  },
  {
   "cell_type": "code",
   "execution_count": 21,
   "metadata": {
    "collapsed": true
   },
   "outputs": [],
   "source": [
    "#Save the headlines and bylines to a timestamped CSV"
   ]
  },
  {
   "cell_type": "code",
   "execution_count": 22,
   "metadata": {
    "collapsed": true
   },
   "outputs": [],
   "source": [
    "import time"
   ]
  },
  {
   "cell_type": "code",
   "execution_count": null,
   "metadata": {
    "collapsed": true
   },
   "outputs": [],
   "source": []
  }
 ],
 "metadata": {
  "kernelspec": {
   "display_name": "Python 3",
   "language": "python",
   "name": "python3"
  },
  "language_info": {
   "codemirror_mode": {
    "name": "ipython",
    "version": 3
   },
   "file_extension": ".py",
   "mimetype": "text/x-python",
   "name": "python",
   "nbconvert_exporter": "python",
   "pygments_lexer": "ipython3",
   "version": "3.5.1"
  }
 },
 "nbformat": 4,
 "nbformat_minor": 0
}
